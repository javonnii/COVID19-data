{
  "nbformat": 4,
  "nbformat_minor": 0,
  "metadata": {
    "colab": {
      "name": "Exploring_Covid_19_eu_dataset.ipynb",
      "provenance": [],
      "collapsed_sections": [],
      "include_colab_link": true
    },
    "kernelspec": {
      "name": "python3",
      "display_name": "Python 3"
    }
  },
  "cells": [
    {
      "cell_type": "markdown",
      "metadata": {
        "id": "view-in-github",
        "colab_type": "text"
      },
      "source": [
        "<a href=\"https://colab.research.google.com/github/javonnii/COVID19-data/blob/master/Exploring_Covid_19_eu_dataset.ipynb\" target=\"_parent\"><img src=\"https://colab.research.google.com/assets/colab-badge.svg\" alt=\"Open In Colab\"/></a>"
      ]
    },
    {
      "cell_type": "code",
      "metadata": {
        "id": "z4oItRoSF1zU",
        "colab_type": "code",
        "colab": {}
      },
      "source": [
        ""
      ],
      "execution_count": 0,
      "outputs": []
    },
    {
      "cell_type": "markdown",
      "metadata": {
        "id": "I6PDy0OaGhRV",
        "colab_type": "text"
      },
      "source": [
        "## Data exploration with Pandas"
      ]
    },
    {
      "cell_type": "code",
      "metadata": {
        "id": "tqgx6SdtGlql",
        "colab_type": "code",
        "colab": {}
      },
      "source": [
        "# imports\n",
        "import pandas as pd\n",
        "import io\n",
        "import matplotlib.pyplot as plt\n",
        "import matplotlib.patches as mpatches\n",
        "import matplotlib.ticker as ticker"
      ],
      "execution_count": 0,
      "outputs": []
    },
    {
      "cell_type": "code",
      "metadata": {
        "id": "CRaH9NL1Gq7h",
        "colab_type": "code",
        "colab": {}
      },
      "source": [
        ""
      ],
      "execution_count": 0,
      "outputs": []
    },
    {
      "cell_type": "markdown",
      "metadata": {
        "id": "GphUBZEiGvHc",
        "colab_type": "text"
      },
      "source": [
        "### COVID-19 data from data.europa.eu\n",
        "* https://data.europa.eu/euodp/en/data/dataset/covid-19-coronavirus-data"
      ]
    },
    {
      "cell_type": "code",
      "metadata": {
        "id": "UnJ_t8taGyx_",
        "colab_type": "code",
        "outputId": "48a49f42-f5b2-4b6f-c03a-d926a6cf0d45",
        "colab": {
          "resources": {
            "http://localhost:8080/nbextensions/google.colab/files.js": {
              "data": "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",
              "ok": true,
              "headers": [
                [
                  "content-type",
                  "application/javascript"
                ]
              ],
              "status": 200,
              "status_text": ""
            }
          },
          "base_uri": "https://localhost:8080/",
          "height": 71
        }
      },
      "source": [
        "from google.colab import files\n",
        "uploaded = files.upload()"
      ],
      "execution_count": 0,
      "outputs": [
        {
          "output_type": "display_data",
          "data": {
            "text/html": [
              "\n",
              "     <input type=\"file\" id=\"files-3e2e4f0b-c81f-4cb0-bb15-6271b777bc4f\" name=\"files[]\" multiple disabled />\n",
              "     <output id=\"result-3e2e4f0b-c81f-4cb0-bb15-6271b777bc4f\">\n",
              "      Upload widget is only available when the cell has been executed in the\n",
              "      current browser session. Please rerun this cell to enable.\n",
              "      </output>\n",
              "      <script src=\"/nbextensions/google.colab/files.js\"></script> "
            ],
            "text/plain": [
              "<IPython.core.display.HTML object>"
            ]
          },
          "metadata": {
            "tags": []
          }
        },
        {
          "output_type": "stream",
          "text": [
            "Saving covid_19.csv to covid_19.csv\n"
          ],
          "name": "stdout"
        }
      ]
    },
    {
      "cell_type": "code",
      "metadata": {
        "id": "WwKlxNJYG9gM",
        "colab_type": "code",
        "colab": {}
      },
      "source": [
        "df = pd.read_csv(io.BytesIO(uploaded['covid_19.csv']))"
      ],
      "execution_count": 0,
      "outputs": []
    },
    {
      "cell_type": "code",
      "metadata": {
        "id": "aM6O0N73H2Yh",
        "colab_type": "code",
        "outputId": "b521f270-9e90-4107-94a0-fea6b0a64179",
        "colab": {
          "base_uri": "https://localhost:8080/",
          "height": 355
        }
      },
      "source": [
        "df.head(10)"
      ],
      "execution_count": 0,
      "outputs": [
        {
          "output_type": "execute_result",
          "data": {
            "text/html": [
              "<div>\n",
              "<style scoped>\n",
              "    .dataframe tbody tr th:only-of-type {\n",
              "        vertical-align: middle;\n",
              "    }\n",
              "\n",
              "    .dataframe tbody tr th {\n",
              "        vertical-align: top;\n",
              "    }\n",
              "\n",
              "    .dataframe thead th {\n",
              "        text-align: right;\n",
              "    }\n",
              "</style>\n",
              "<table border=\"1\" class=\"dataframe\">\n",
              "  <thead>\n",
              "    <tr style=\"text-align: right;\">\n",
              "      <th></th>\n",
              "      <th>dateRep</th>\n",
              "      <th>day</th>\n",
              "      <th>month</th>\n",
              "      <th>year</th>\n",
              "      <th>cases</th>\n",
              "      <th>deaths</th>\n",
              "      <th>countriesAndTerritories</th>\n",
              "      <th>geoId</th>\n",
              "      <th>countryterritoryCode</th>\n",
              "      <th>popData2018</th>\n",
              "      <th>continentExp</th>\n",
              "    </tr>\n",
              "  </thead>\n",
              "  <tbody>\n",
              "    <tr>\n",
              "      <th>0</th>\n",
              "      <td>03/05/2020</td>\n",
              "      <td>3</td>\n",
              "      <td>5</td>\n",
              "      <td>2020</td>\n",
              "      <td>134</td>\n",
              "      <td>4</td>\n",
              "      <td>Afghanistan</td>\n",
              "      <td>AF</td>\n",
              "      <td>AFG</td>\n",
              "      <td>37172386.0</td>\n",
              "      <td>Asia</td>\n",
              "    </tr>\n",
              "    <tr>\n",
              "      <th>1</th>\n",
              "      <td>02/05/2020</td>\n",
              "      <td>2</td>\n",
              "      <td>5</td>\n",
              "      <td>2020</td>\n",
              "      <td>164</td>\n",
              "      <td>4</td>\n",
              "      <td>Afghanistan</td>\n",
              "      <td>AF</td>\n",
              "      <td>AFG</td>\n",
              "      <td>37172386.0</td>\n",
              "      <td>Asia</td>\n",
              "    </tr>\n",
              "    <tr>\n",
              "      <th>2</th>\n",
              "      <td>01/05/2020</td>\n",
              "      <td>1</td>\n",
              "      <td>5</td>\n",
              "      <td>2020</td>\n",
              "      <td>222</td>\n",
              "      <td>4</td>\n",
              "      <td>Afghanistan</td>\n",
              "      <td>AF</td>\n",
              "      <td>AFG</td>\n",
              "      <td>37172386.0</td>\n",
              "      <td>Asia</td>\n",
              "    </tr>\n",
              "    <tr>\n",
              "      <th>3</th>\n",
              "      <td>30/04/2020</td>\n",
              "      <td>30</td>\n",
              "      <td>4</td>\n",
              "      <td>2020</td>\n",
              "      <td>122</td>\n",
              "      <td>0</td>\n",
              "      <td>Afghanistan</td>\n",
              "      <td>AF</td>\n",
              "      <td>AFG</td>\n",
              "      <td>37172386.0</td>\n",
              "      <td>Asia</td>\n",
              "    </tr>\n",
              "    <tr>\n",
              "      <th>4</th>\n",
              "      <td>29/04/2020</td>\n",
              "      <td>29</td>\n",
              "      <td>4</td>\n",
              "      <td>2020</td>\n",
              "      <td>124</td>\n",
              "      <td>3</td>\n",
              "      <td>Afghanistan</td>\n",
              "      <td>AF</td>\n",
              "      <td>AFG</td>\n",
              "      <td>37172386.0</td>\n",
              "      <td>Asia</td>\n",
              "    </tr>\n",
              "    <tr>\n",
              "      <th>5</th>\n",
              "      <td>28/04/2020</td>\n",
              "      <td>28</td>\n",
              "      <td>4</td>\n",
              "      <td>2020</td>\n",
              "      <td>172</td>\n",
              "      <td>0</td>\n",
              "      <td>Afghanistan</td>\n",
              "      <td>AF</td>\n",
              "      <td>AFG</td>\n",
              "      <td>37172386.0</td>\n",
              "      <td>Asia</td>\n",
              "    </tr>\n",
              "    <tr>\n",
              "      <th>6</th>\n",
              "      <td>27/04/2020</td>\n",
              "      <td>27</td>\n",
              "      <td>4</td>\n",
              "      <td>2020</td>\n",
              "      <td>68</td>\n",
              "      <td>10</td>\n",
              "      <td>Afghanistan</td>\n",
              "      <td>AF</td>\n",
              "      <td>AFG</td>\n",
              "      <td>37172386.0</td>\n",
              "      <td>Asia</td>\n",
              "    </tr>\n",
              "    <tr>\n",
              "      <th>7</th>\n",
              "      <td>26/04/2020</td>\n",
              "      <td>26</td>\n",
              "      <td>4</td>\n",
              "      <td>2020</td>\n",
              "      <td>112</td>\n",
              "      <td>4</td>\n",
              "      <td>Afghanistan</td>\n",
              "      <td>AF</td>\n",
              "      <td>AFG</td>\n",
              "      <td>37172386.0</td>\n",
              "      <td>Asia</td>\n",
              "    </tr>\n",
              "    <tr>\n",
              "      <th>8</th>\n",
              "      <td>25/04/2020</td>\n",
              "      <td>25</td>\n",
              "      <td>4</td>\n",
              "      <td>2020</td>\n",
              "      <td>70</td>\n",
              "      <td>1</td>\n",
              "      <td>Afghanistan</td>\n",
              "      <td>AF</td>\n",
              "      <td>AFG</td>\n",
              "      <td>37172386.0</td>\n",
              "      <td>Asia</td>\n",
              "    </tr>\n",
              "    <tr>\n",
              "      <th>9</th>\n",
              "      <td>24/04/2020</td>\n",
              "      <td>24</td>\n",
              "      <td>4</td>\n",
              "      <td>2020</td>\n",
              "      <td>105</td>\n",
              "      <td>2</td>\n",
              "      <td>Afghanistan</td>\n",
              "      <td>AF</td>\n",
              "      <td>AFG</td>\n",
              "      <td>37172386.0</td>\n",
              "      <td>Asia</td>\n",
              "    </tr>\n",
              "  </tbody>\n",
              "</table>\n",
              "</div>"
            ],
            "text/plain": [
              "      dateRep  day  month  ...  countryterritoryCode  popData2018  continentExp\n",
              "0  03/05/2020    3      5  ...                   AFG   37172386.0          Asia\n",
              "1  02/05/2020    2      5  ...                   AFG   37172386.0          Asia\n",
              "2  01/05/2020    1      5  ...                   AFG   37172386.0          Asia\n",
              "3  30/04/2020   30      4  ...                   AFG   37172386.0          Asia\n",
              "4  29/04/2020   29      4  ...                   AFG   37172386.0          Asia\n",
              "5  28/04/2020   28      4  ...                   AFG   37172386.0          Asia\n",
              "6  27/04/2020   27      4  ...                   AFG   37172386.0          Asia\n",
              "7  26/04/2020   26      4  ...                   AFG   37172386.0          Asia\n",
              "8  25/04/2020   25      4  ...                   AFG   37172386.0          Asia\n",
              "9  24/04/2020   24      4  ...                   AFG   37172386.0          Asia\n",
              "\n",
              "[10 rows x 11 columns]"
            ]
          },
          "metadata": {
            "tags": []
          },
          "execution_count": 9
        }
      ]
    },
    {
      "cell_type": "code",
      "metadata": {
        "id": "V9fBfFmsIz0u",
        "colab_type": "code",
        "outputId": "f2d6a122-3433-41e4-b5f3-77b5d0818b1c",
        "colab": {
          "base_uri": "https://localhost:8080/",
          "height": 329
        }
      },
      "source": [
        "df.info()"
      ],
      "execution_count": 0,
      "outputs": [
        {
          "output_type": "stream",
          "text": [
            "<class 'pandas.core.frame.DataFrame'>\n",
            "RangeIndex: 14658 entries, 0 to 14657\n",
            "Data columns (total 11 columns):\n",
            " #   Column                   Non-Null Count  Dtype  \n",
            "---  ------                   --------------  -----  \n",
            " 0   dateRep                  14658 non-null  object \n",
            " 1   day                      14658 non-null  int64  \n",
            " 2   month                    14658 non-null  int64  \n",
            " 3   year                     14658 non-null  int64  \n",
            " 4   cases                    14658 non-null  int64  \n",
            " 5   deaths                   14658 non-null  int64  \n",
            " 6   countriesAndTerritories  14658 non-null  object \n",
            " 7   geoId                    14608 non-null  object \n",
            " 8   countryterritoryCode     14486 non-null  object \n",
            " 9   popData2018              14507 non-null  float64\n",
            " 10  continentExp             14658 non-null  object \n",
            "dtypes: float64(1), int64(5), object(5)\n",
            "memory usage: 1.2+ MB\n"
          ],
          "name": "stdout"
        }
      ]
    },
    {
      "cell_type": "code",
      "metadata": {
        "id": "37xIiizRJTEX",
        "colab_type": "code",
        "outputId": "09bf36b6-e6ae-4326-dc1d-93442ec8dbc9",
        "colab": {
          "base_uri": "https://localhost:8080/",
          "height": 35
        }
      },
      "source": [
        "# get the dimensions of the dataframe\n",
        "df.shape"
      ],
      "execution_count": 0,
      "outputs": [
        {
          "output_type": "execute_result",
          "data": {
            "text/plain": [
              "(14658, 11)"
            ]
          },
          "metadata": {
            "tags": []
          },
          "execution_count": 11
        }
      ]
    },
    {
      "cell_type": "code",
      "metadata": {
        "id": "fz_bqTr3JtM1",
        "colab_type": "code",
        "outputId": "df01cb73-8be6-4664-8706-dc9852a6461f",
        "colab": {
          "base_uri": "https://localhost:8080/",
          "height": 87
        }
      },
      "source": [
        "df.columns"
      ],
      "execution_count": 0,
      "outputs": [
        {
          "output_type": "execute_result",
          "data": {
            "text/plain": [
              "Index(['dateRep', 'day', 'month', 'year', 'cases', 'deaths',\n",
              "       'countriesAndTerritories', 'geoId', 'countryterritoryCode',\n",
              "       'popData2018', 'continentExp'],\n",
              "      dtype='object')"
            ]
          },
          "metadata": {
            "tags": []
          },
          "execution_count": 14
        }
      ]
    },
    {
      "cell_type": "code",
      "metadata": {
        "id": "wudtzokxJ3Kw",
        "colab_type": "code",
        "outputId": "a1d3a139-ee31-4924-e606-3e5d67efb26d",
        "colab": {
          "base_uri": "https://localhost:8080/",
          "height": 294
        }
      },
      "source": [
        "df.describe()"
      ],
      "execution_count": 0,
      "outputs": [
        {
          "output_type": "execute_result",
          "data": {
            "text/html": [
              "<div>\n",
              "<style scoped>\n",
              "    .dataframe tbody tr th:only-of-type {\n",
              "        vertical-align: middle;\n",
              "    }\n",
              "\n",
              "    .dataframe tbody tr th {\n",
              "        vertical-align: top;\n",
              "    }\n",
              "\n",
              "    .dataframe thead th {\n",
              "        text-align: right;\n",
              "    }\n",
              "</style>\n",
              "<table border=\"1\" class=\"dataframe\">\n",
              "  <thead>\n",
              "    <tr style=\"text-align: right;\">\n",
              "      <th></th>\n",
              "      <th>day</th>\n",
              "      <th>month</th>\n",
              "      <th>year</th>\n",
              "      <th>cases</th>\n",
              "      <th>deaths</th>\n",
              "      <th>popData2018</th>\n",
              "    </tr>\n",
              "  </thead>\n",
              "  <tbody>\n",
              "    <tr>\n",
              "      <th>count</th>\n",
              "      <td>14658.000000</td>\n",
              "      <td>14658.000000</td>\n",
              "      <td>14658.000000</td>\n",
              "      <td>14658.000000</td>\n",
              "      <td>14658.000000</td>\n",
              "      <td>1.450700e+04</td>\n",
              "    </tr>\n",
              "    <tr>\n",
              "      <th>mean</th>\n",
              "      <td>16.189589</td>\n",
              "      <td>3.127916</td>\n",
              "      <td>2019.995429</td>\n",
              "      <td>231.181948</td>\n",
              "      <td>16.599263</td>\n",
              "      <td>5.469272e+07</td>\n",
              "    </tr>\n",
              "    <tr>\n",
              "      <th>std</th>\n",
              "      <td>9.075428</td>\n",
              "      <td>1.280989</td>\n",
              "      <td>0.067456</td>\n",
              "      <td>1606.288464</td>\n",
              "      <td>124.291904</td>\n",
              "      <td>1.826093e+08</td>\n",
              "    </tr>\n",
              "    <tr>\n",
              "      <th>min</th>\n",
              "      <td>1.000000</td>\n",
              "      <td>1.000000</td>\n",
              "      <td>2019.000000</td>\n",
              "      <td>-1430.000000</td>\n",
              "      <td>0.000000</td>\n",
              "      <td>1.000000e+03</td>\n",
              "    </tr>\n",
              "    <tr>\n",
              "      <th>25%</th>\n",
              "      <td>8.000000</td>\n",
              "      <td>2.000000</td>\n",
              "      <td>2020.000000</td>\n",
              "      <td>0.000000</td>\n",
              "      <td>0.000000</td>\n",
              "      <td>2.781677e+06</td>\n",
              "    </tr>\n",
              "    <tr>\n",
              "      <th>50%</th>\n",
              "      <td>17.000000</td>\n",
              "      <td>3.000000</td>\n",
              "      <td>2020.000000</td>\n",
              "      <td>1.000000</td>\n",
              "      <td>0.000000</td>\n",
              "      <td>9.942334e+06</td>\n",
              "    </tr>\n",
              "    <tr>\n",
              "      <th>75%</th>\n",
              "      <td>24.000000</td>\n",
              "      <td>4.000000</td>\n",
              "      <td>2020.000000</td>\n",
              "      <td>30.000000</td>\n",
              "      <td>1.000000</td>\n",
              "      <td>3.717239e+07</td>\n",
              "    </tr>\n",
              "    <tr>\n",
              "      <th>max</th>\n",
              "      <td>31.000000</td>\n",
              "      <td>12.000000</td>\n",
              "      <td>2020.000000</td>\n",
              "      <td>48529.000000</td>\n",
              "      <td>4928.000000</td>\n",
              "      <td>1.392730e+09</td>\n",
              "    </tr>\n",
              "  </tbody>\n",
              "</table>\n",
              "</div>"
            ],
            "text/plain": [
              "                day         month  ...        deaths   popData2018\n",
              "count  14658.000000  14658.000000  ...  14658.000000  1.450700e+04\n",
              "mean      16.189589      3.127916  ...     16.599263  5.469272e+07\n",
              "std        9.075428      1.280989  ...    124.291904  1.826093e+08\n",
              "min        1.000000      1.000000  ...      0.000000  1.000000e+03\n",
              "25%        8.000000      2.000000  ...      0.000000  2.781677e+06\n",
              "50%       17.000000      3.000000  ...      0.000000  9.942334e+06\n",
              "75%       24.000000      4.000000  ...      1.000000  3.717239e+07\n",
              "max       31.000000     12.000000  ...   4928.000000  1.392730e+09\n",
              "\n",
              "[8 rows x 6 columns]"
            ]
          },
          "metadata": {
            "tags": []
          },
          "execution_count": 15
        }
      ]
    },
    {
      "cell_type": "code",
      "metadata": {
        "id": "_vIgbTy2KE4T",
        "colab_type": "code",
        "outputId": "2938b99d-a2f4-47c9-8b2d-ad6bc6e59e0f",
        "colab": {
          "base_uri": "https://localhost:8080/",
          "height": 355
        }
      },
      "source": [
        "df.tail(10)"
      ],
      "execution_count": 0,
      "outputs": [
        {
          "output_type": "execute_result",
          "data": {
            "text/html": [
              "<div>\n",
              "<style scoped>\n",
              "    .dataframe tbody tr th:only-of-type {\n",
              "        vertical-align: middle;\n",
              "    }\n",
              "\n",
              "    .dataframe tbody tr th {\n",
              "        vertical-align: top;\n",
              "    }\n",
              "\n",
              "    .dataframe thead th {\n",
              "        text-align: right;\n",
              "    }\n",
              "</style>\n",
              "<table border=\"1\" class=\"dataframe\">\n",
              "  <thead>\n",
              "    <tr style=\"text-align: right;\">\n",
              "      <th></th>\n",
              "      <th>dateRep</th>\n",
              "      <th>day</th>\n",
              "      <th>month</th>\n",
              "      <th>year</th>\n",
              "      <th>cases</th>\n",
              "      <th>deaths</th>\n",
              "      <th>countriesAndTerritories</th>\n",
              "      <th>geoId</th>\n",
              "      <th>countryterritoryCode</th>\n",
              "      <th>popData2018</th>\n",
              "      <th>continentExp</th>\n",
              "    </tr>\n",
              "  </thead>\n",
              "  <tbody>\n",
              "    <tr>\n",
              "      <th>14648</th>\n",
              "      <td>30/03/2020</td>\n",
              "      <td>30</td>\n",
              "      <td>3</td>\n",
              "      <td>2020</td>\n",
              "      <td>0</td>\n",
              "      <td>0</td>\n",
              "      <td>Zimbabwe</td>\n",
              "      <td>ZW</td>\n",
              "      <td>ZWE</td>\n",
              "      <td>14439018.0</td>\n",
              "      <td>Africa</td>\n",
              "    </tr>\n",
              "    <tr>\n",
              "      <th>14649</th>\n",
              "      <td>29/03/2020</td>\n",
              "      <td>29</td>\n",
              "      <td>3</td>\n",
              "      <td>2020</td>\n",
              "      <td>2</td>\n",
              "      <td>0</td>\n",
              "      <td>Zimbabwe</td>\n",
              "      <td>ZW</td>\n",
              "      <td>ZWE</td>\n",
              "      <td>14439018.0</td>\n",
              "      <td>Africa</td>\n",
              "    </tr>\n",
              "    <tr>\n",
              "      <th>14650</th>\n",
              "      <td>28/03/2020</td>\n",
              "      <td>28</td>\n",
              "      <td>3</td>\n",
              "      <td>2020</td>\n",
              "      <td>2</td>\n",
              "      <td>0</td>\n",
              "      <td>Zimbabwe</td>\n",
              "      <td>ZW</td>\n",
              "      <td>ZWE</td>\n",
              "      <td>14439018.0</td>\n",
              "      <td>Africa</td>\n",
              "    </tr>\n",
              "    <tr>\n",
              "      <th>14651</th>\n",
              "      <td>27/03/2020</td>\n",
              "      <td>27</td>\n",
              "      <td>3</td>\n",
              "      <td>2020</td>\n",
              "      <td>0</td>\n",
              "      <td>0</td>\n",
              "      <td>Zimbabwe</td>\n",
              "      <td>ZW</td>\n",
              "      <td>ZWE</td>\n",
              "      <td>14439018.0</td>\n",
              "      <td>Africa</td>\n",
              "    </tr>\n",
              "    <tr>\n",
              "      <th>14652</th>\n",
              "      <td>26/03/2020</td>\n",
              "      <td>26</td>\n",
              "      <td>3</td>\n",
              "      <td>2020</td>\n",
              "      <td>1</td>\n",
              "      <td>0</td>\n",
              "      <td>Zimbabwe</td>\n",
              "      <td>ZW</td>\n",
              "      <td>ZWE</td>\n",
              "      <td>14439018.0</td>\n",
              "      <td>Africa</td>\n",
              "    </tr>\n",
              "    <tr>\n",
              "      <th>14653</th>\n",
              "      <td>25/03/2020</td>\n",
              "      <td>25</td>\n",
              "      <td>3</td>\n",
              "      <td>2020</td>\n",
              "      <td>0</td>\n",
              "      <td>0</td>\n",
              "      <td>Zimbabwe</td>\n",
              "      <td>ZW</td>\n",
              "      <td>ZWE</td>\n",
              "      <td>14439018.0</td>\n",
              "      <td>Africa</td>\n",
              "    </tr>\n",
              "    <tr>\n",
              "      <th>14654</th>\n",
              "      <td>24/03/2020</td>\n",
              "      <td>24</td>\n",
              "      <td>3</td>\n",
              "      <td>2020</td>\n",
              "      <td>0</td>\n",
              "      <td>1</td>\n",
              "      <td>Zimbabwe</td>\n",
              "      <td>ZW</td>\n",
              "      <td>ZWE</td>\n",
              "      <td>14439018.0</td>\n",
              "      <td>Africa</td>\n",
              "    </tr>\n",
              "    <tr>\n",
              "      <th>14655</th>\n",
              "      <td>23/03/2020</td>\n",
              "      <td>23</td>\n",
              "      <td>3</td>\n",
              "      <td>2020</td>\n",
              "      <td>0</td>\n",
              "      <td>0</td>\n",
              "      <td>Zimbabwe</td>\n",
              "      <td>ZW</td>\n",
              "      <td>ZWE</td>\n",
              "      <td>14439018.0</td>\n",
              "      <td>Africa</td>\n",
              "    </tr>\n",
              "    <tr>\n",
              "      <th>14656</th>\n",
              "      <td>22/03/2020</td>\n",
              "      <td>22</td>\n",
              "      <td>3</td>\n",
              "      <td>2020</td>\n",
              "      <td>1</td>\n",
              "      <td>0</td>\n",
              "      <td>Zimbabwe</td>\n",
              "      <td>ZW</td>\n",
              "      <td>ZWE</td>\n",
              "      <td>14439018.0</td>\n",
              "      <td>Africa</td>\n",
              "    </tr>\n",
              "    <tr>\n",
              "      <th>14657</th>\n",
              "      <td>21/03/2020</td>\n",
              "      <td>21</td>\n",
              "      <td>3</td>\n",
              "      <td>2020</td>\n",
              "      <td>1</td>\n",
              "      <td>0</td>\n",
              "      <td>Zimbabwe</td>\n",
              "      <td>ZW</td>\n",
              "      <td>ZWE</td>\n",
              "      <td>14439018.0</td>\n",
              "      <td>Africa</td>\n",
              "    </tr>\n",
              "  </tbody>\n",
              "</table>\n",
              "</div>"
            ],
            "text/plain": [
              "          dateRep  day  month  ...  countryterritoryCode  popData2018  continentExp\n",
              "14648  30/03/2020   30      3  ...                   ZWE   14439018.0        Africa\n",
              "14649  29/03/2020   29      3  ...                   ZWE   14439018.0        Africa\n",
              "14650  28/03/2020   28      3  ...                   ZWE   14439018.0        Africa\n",
              "14651  27/03/2020   27      3  ...                   ZWE   14439018.0        Africa\n",
              "14652  26/03/2020   26      3  ...                   ZWE   14439018.0        Africa\n",
              "14653  25/03/2020   25      3  ...                   ZWE   14439018.0        Africa\n",
              "14654  24/03/2020   24      3  ...                   ZWE   14439018.0        Africa\n",
              "14655  23/03/2020   23      3  ...                   ZWE   14439018.0        Africa\n",
              "14656  22/03/2020   22      3  ...                   ZWE   14439018.0        Africa\n",
              "14657  21/03/2020   21      3  ...                   ZWE   14439018.0        Africa\n",
              "\n",
              "[10 rows x 11 columns]"
            ]
          },
          "metadata": {
            "tags": []
          },
          "execution_count": 17
        }
      ]
    },
    {
      "cell_type": "code",
      "metadata": {
        "id": "KASWnZ-mLOdu",
        "colab_type": "code",
        "colab": {}
      },
      "source": [
        "# df.to_excel('filename.xls')"
      ],
      "execution_count": 0,
      "outputs": []
    },
    {
      "cell_type": "code",
      "metadata": {
        "id": "0sEmdI5TLwHr",
        "colab_type": "code",
        "colab": {}
      },
      "source": [
        ""
      ],
      "execution_count": 0,
      "outputs": []
    },
    {
      "cell_type": "markdown",
      "metadata": {
        "id": "YD9yvS1bLyrX",
        "colab_type": "text"
      },
      "source": [
        "### Notation Methods"
      ]
    },
    {
      "cell_type": "code",
      "metadata": {
        "id": "sJYGPI4fL1Io",
        "colab_type": "code",
        "outputId": "a9f6f14c-66de-4e28-9137-6510dcc8ae1e",
        "colab": {
          "base_uri": "https://localhost:8080/",
          "height": 208
        }
      },
      "source": [
        "# dot notation for accessing fields/columns in your data\n",
        "df.dateRep.head(10)\n"
      ],
      "execution_count": 0,
      "outputs": [
        {
          "output_type": "execute_result",
          "data": {
            "text/plain": [
              "0    03/05/2020\n",
              "1    02/05/2020\n",
              "2    01/05/2020\n",
              "3    30/04/2020\n",
              "4    29/04/2020\n",
              "5    28/04/2020\n",
              "6    27/04/2020\n",
              "7    26/04/2020\n",
              "8    25/04/2020\n",
              "9    24/04/2020\n",
              "Name: dateRep, dtype: object"
            ]
          },
          "metadata": {
            "tags": []
          },
          "execution_count": 26
        }
      ]
    },
    {
      "cell_type": "code",
      "metadata": {
        "id": "JAtxfL7yMCqs",
        "colab_type": "code",
        "outputId": "9f4c29b6-f4c1-433b-8e56-aff126d74e18",
        "colab": {
          "base_uri": "https://localhost:8080/",
          "height": 35
        }
      },
      "source": [
        "df.dateRep[500]"
      ],
      "execution_count": 0,
      "outputs": [
        {
          "output_type": "execute_result",
          "data": {
            "text/plain": [
              "'01/04/2020'"
            ]
          },
          "metadata": {
            "tags": []
          },
          "execution_count": 27
        }
      ]
    },
    {
      "cell_type": "code",
      "metadata": {
        "id": "DSua7qpjMjiS",
        "colab_type": "code",
        "outputId": "e5889604-18c2-4f4d-b7b1-35e90f4381bb",
        "colab": {
          "base_uri": "https://localhost:8080/",
          "height": 208
        }
      },
      "source": [
        "# bracket notation\n",
        "df['dateRep'].head(10)"
      ],
      "execution_count": 0,
      "outputs": [
        {
          "output_type": "execute_result",
          "data": {
            "text/plain": [
              "0    03/05/2020\n",
              "1    02/05/2020\n",
              "2    01/05/2020\n",
              "3    30/04/2020\n",
              "4    29/04/2020\n",
              "5    28/04/2020\n",
              "6    27/04/2020\n",
              "7    26/04/2020\n",
              "8    25/04/2020\n",
              "9    24/04/2020\n",
              "Name: dateRep, dtype: object"
            ]
          },
          "metadata": {
            "tags": []
          },
          "execution_count": 28
        }
      ]
    },
    {
      "cell_type": "code",
      "metadata": {
        "id": "_gS_SimPM5mQ",
        "colab_type": "code",
        "outputId": "ace76c2a-30ac-4be6-d641-be19f6319b15",
        "colab": {
          "base_uri": "https://localhost:8080/",
          "height": 35
        }
      },
      "source": [
        "df['dateRep'][500]"
      ],
      "execution_count": 0,
      "outputs": [
        {
          "output_type": "execute_result",
          "data": {
            "text/plain": [
              "'01/04/2020'"
            ]
          },
          "metadata": {
            "tags": []
          },
          "execution_count": 29
        }
      ]
    },
    {
      "cell_type": "code",
      "metadata": {
        "id": "uexg8mHyM8T9",
        "colab_type": "code",
        "colab": {}
      },
      "source": [
        ""
      ],
      "execution_count": 0,
      "outputs": []
    },
    {
      "cell_type": "markdown",
      "metadata": {
        "id": "IakBY4XwNHfD",
        "colab_type": "text"
      },
      "source": [
        "How many unique countries have reported?"
      ]
    },
    {
      "cell_type": "code",
      "metadata": {
        "id": "vP0WBSrXNKEG",
        "colab_type": "code",
        "outputId": "bf9e4b97-2a66-45a8-ecc6-3f34b66c8f1c",
        "colab": {
          "base_uri": "https://localhost:8080/",
          "height": 104
        }
      },
      "source": [
        "df['countriesAndTerritories'].describe()"
      ],
      "execution_count": 0,
      "outputs": [
        {
          "output_type": "execute_result",
          "data": {
            "text/plain": [
              "count           14658\n",
              "unique            209\n",
              "top       South_Korea\n",
              "freq              125\n",
              "Name: countriesAndTerritories, dtype: object"
            ]
          },
          "metadata": {
            "tags": []
          },
          "execution_count": 32
        }
      ]
    },
    {
      "cell_type": "code",
      "metadata": {
        "id": "qSj44aS8NOaS",
        "colab_type": "code",
        "colab": {}
      },
      "source": [
        ""
      ],
      "execution_count": 0,
      "outputs": []
    },
    {
      "cell_type": "markdown",
      "metadata": {
        "id": "fx9LHzP9OGGA",
        "colab_type": "text"
      },
      "source": [
        "What are the unique countries that have reported?"
      ]
    },
    {
      "cell_type": "code",
      "metadata": {
        "id": "cne8vcoUOJqe",
        "colab_type": "code",
        "outputId": "b9006062-2398-4b54-db93-f600efb197c5",
        "colab": {
          "base_uri": "https://localhost:8080/",
          "height": 1000
        }
      },
      "source": [
        "countries_reported = df['countriesAndTerritories'].unique()\n",
        "\n",
        "for country_name in countries_reported:\n",
        "    print(' ', country_name) "
      ],
      "execution_count": 0,
      "outputs": [
        {
          "output_type": "stream",
          "text": [
            "  Afghanistan\n",
            "  Albania\n",
            "  Algeria\n",
            "  Andorra\n",
            "  Angola\n",
            "  Anguilla\n",
            "  Antigua_and_Barbuda\n",
            "  Argentina\n",
            "  Armenia\n",
            "  Aruba\n",
            "  Australia\n",
            "  Austria\n",
            "  Azerbaijan\n",
            "  Bahamas\n",
            "  Bahrain\n",
            "  Bangladesh\n",
            "  Barbados\n",
            "  Belarus\n",
            "  Belgium\n",
            "  Belize\n",
            "  Benin\n",
            "  Bermuda\n",
            "  Bhutan\n",
            "  Bolivia\n",
            "  Bonaire, Saint Eustatius and Saba\n",
            "  Bosnia_and_Herzegovina\n",
            "  Botswana\n",
            "  Brazil\n",
            "  British_Virgin_Islands\n",
            "  Brunei_Darussalam\n",
            "  Bulgaria\n",
            "  Burkina_Faso\n",
            "  Burundi\n",
            "  Cambodia\n",
            "  Cameroon\n",
            "  Canada\n",
            "  Cape_Verde\n",
            "  Cases_on_an_international_conveyance_Japan\n",
            "  Cayman_Islands\n",
            "  Central_African_Republic\n",
            "  Chad\n",
            "  Chile\n",
            "  China\n",
            "  Colombia\n",
            "  Comoros\n",
            "  Congo\n",
            "  Costa_Rica\n",
            "  Cote_dIvoire\n",
            "  Croatia\n",
            "  Cuba\n",
            "  Curaçao\n",
            "  Cyprus\n",
            "  Czechia\n",
            "  Democratic_Republic_of_the_Congo\n",
            "  Denmark\n",
            "  Djibouti\n",
            "  Dominica\n",
            "  Dominican_Republic\n",
            "  Ecuador\n",
            "  Egypt\n",
            "  El_Salvador\n",
            "  Equatorial_Guinea\n",
            "  Eritrea\n",
            "  Estonia\n",
            "  Eswatini\n",
            "  Ethiopia\n",
            "  Falkland_Islands_(Malvinas)\n",
            "  Faroe_Islands\n",
            "  Fiji\n",
            "  Finland\n",
            "  France\n",
            "  French_Polynesia\n",
            "  Gabon\n",
            "  Gambia\n",
            "  Georgia\n",
            "  Germany\n",
            "  Ghana\n",
            "  Gibraltar\n",
            "  Greece\n",
            "  Greenland\n",
            "  Grenada\n",
            "  Guam\n",
            "  Guatemala\n",
            "  Guernsey\n",
            "  Guinea\n",
            "  Guinea_Bissau\n",
            "  Guyana\n",
            "  Haiti\n",
            "  Holy_See\n",
            "  Honduras\n",
            "  Hungary\n",
            "  Iceland\n",
            "  India\n",
            "  Indonesia\n",
            "  Iran\n",
            "  Iraq\n",
            "  Ireland\n",
            "  Isle_of_Man\n",
            "  Israel\n",
            "  Italy\n",
            "  Jamaica\n",
            "  Japan\n",
            "  Jersey\n",
            "  Jordan\n",
            "  Kazakhstan\n",
            "  Kenya\n",
            "  Kosovo\n",
            "  Kuwait\n",
            "  Kyrgyzstan\n",
            "  Laos\n",
            "  Latvia\n",
            "  Lebanon\n",
            "  Liberia\n",
            "  Libya\n",
            "  Liechtenstein\n",
            "  Lithuania\n",
            "  Luxembourg\n",
            "  Madagascar\n",
            "  Malawi\n",
            "  Malaysia\n",
            "  Maldives\n",
            "  Mali\n",
            "  Malta\n",
            "  Mauritania\n",
            "  Mauritius\n",
            "  Mexico\n",
            "  Moldova\n",
            "  Monaco\n",
            "  Mongolia\n",
            "  Montenegro\n",
            "  Montserrat\n",
            "  Morocco\n",
            "  Mozambique\n",
            "  Myanmar\n",
            "  Namibia\n",
            "  Nepal\n",
            "  Netherlands\n",
            "  New_Caledonia\n",
            "  New_Zealand\n",
            "  Nicaragua\n",
            "  Niger\n",
            "  Nigeria\n",
            "  North_Macedonia\n",
            "  Northern_Mariana_Islands\n",
            "  Norway\n",
            "  Oman\n",
            "  Pakistan\n",
            "  Palestine\n",
            "  Panama\n",
            "  Papua_New_Guinea\n",
            "  Paraguay\n",
            "  Peru\n",
            "  Philippines\n",
            "  Poland\n",
            "  Portugal\n",
            "  Puerto_Rico\n",
            "  Qatar\n",
            "  Romania\n",
            "  Russia\n",
            "  Rwanda\n",
            "  Saint_Kitts_and_Nevis\n",
            "  Saint_Lucia\n",
            "  Saint_Vincent_and_the_Grenadines\n",
            "  San_Marino\n",
            "  Sao_Tome_and_Principe\n",
            "  Saudi_Arabia\n",
            "  Senegal\n",
            "  Serbia\n",
            "  Seychelles\n",
            "  Sierra_Leone\n",
            "  Singapore\n",
            "  Sint_Maarten\n",
            "  Slovakia\n",
            "  Slovenia\n",
            "  Somalia\n",
            "  South_Africa\n",
            "  South_Korea\n",
            "  South_Sudan\n",
            "  Spain\n",
            "  Sri_Lanka\n",
            "  Sudan\n",
            "  Suriname\n",
            "  Sweden\n",
            "  Switzerland\n",
            "  Syria\n",
            "  Taiwan\n",
            "  Tajikistan\n",
            "  Thailand\n",
            "  Timor_Leste\n",
            "  Togo\n",
            "  Trinidad_and_Tobago\n",
            "  Tunisia\n",
            "  Turkey\n",
            "  Turks_and_Caicos_islands\n",
            "  Uganda\n",
            "  Ukraine\n",
            "  United_Arab_Emirates\n",
            "  United_Kingdom\n",
            "  United_Republic_of_Tanzania\n",
            "  United_States_of_America\n",
            "  United_States_Virgin_Islands\n",
            "  Uruguay\n",
            "  Uzbekistan\n",
            "  Venezuela\n",
            "  Vietnam\n",
            "  Western_Sahara\n",
            "  Yemen\n",
            "  Zambia\n",
            "  Zimbabwe\n"
          ],
          "name": "stdout"
        }
      ]
    },
    {
      "cell_type": "code",
      "metadata": {
        "id": "1b4r0sbcOd7Q",
        "colab_type": "code",
        "colab": {}
      },
      "source": [
        ""
      ],
      "execution_count": 0,
      "outputs": []
    },
    {
      "cell_type": "markdown",
      "metadata": {
        "id": "iDVIbIB0O0wV",
        "colab_type": "text"
      },
      "source": [
        "### Slice notation for dataframes"
      ]
    },
    {
      "cell_type": "code",
      "metadata": {
        "id": "r-1B0VxyO3PL",
        "colab_type": "code",
        "outputId": "bf90ef43-f3c0-4ccc-82b7-c2fa310b6ddb",
        "colab": {
          "base_uri": "https://localhost:8080/",
          "height": 202
        }
      },
      "source": [
        "df[3000:3005]"
      ],
      "execution_count": 0,
      "outputs": [
        {
          "output_type": "execute_result",
          "data": {
            "text/html": [
              "<div>\n",
              "<style scoped>\n",
              "    .dataframe tbody tr th:only-of-type {\n",
              "        vertical-align: middle;\n",
              "    }\n",
              "\n",
              "    .dataframe tbody tr th {\n",
              "        vertical-align: top;\n",
              "    }\n",
              "\n",
              "    .dataframe thead th {\n",
              "        text-align: right;\n",
              "    }\n",
              "</style>\n",
              "<table border=\"1\" class=\"dataframe\">\n",
              "  <thead>\n",
              "    <tr style=\"text-align: right;\">\n",
              "      <th></th>\n",
              "      <th>dateRep</th>\n",
              "      <th>day</th>\n",
              "      <th>month</th>\n",
              "      <th>year</th>\n",
              "      <th>cases</th>\n",
              "      <th>deaths</th>\n",
              "      <th>countriesAndTerritories</th>\n",
              "      <th>geoId</th>\n",
              "      <th>countryterritoryCode</th>\n",
              "      <th>popData2018</th>\n",
              "      <th>continentExp</th>\n",
              "    </tr>\n",
              "  </thead>\n",
              "  <tbody>\n",
              "    <tr>\n",
              "      <th>3000</th>\n",
              "      <td>01/05/2020</td>\n",
              "      <td>1</td>\n",
              "      <td>5</td>\n",
              "      <td>2020</td>\n",
              "      <td>296</td>\n",
              "      <td>15</td>\n",
              "      <td>Colombia</td>\n",
              "      <td>CO</td>\n",
              "      <td>COL</td>\n",
              "      <td>49648685.0</td>\n",
              "      <td>America</td>\n",
              "    </tr>\n",
              "    <tr>\n",
              "      <th>3001</th>\n",
              "      <td>30/04/2020</td>\n",
              "      <td>30</td>\n",
              "      <td>4</td>\n",
              "      <td>2020</td>\n",
              "      <td>262</td>\n",
              "      <td>9</td>\n",
              "      <td>Colombia</td>\n",
              "      <td>CO</td>\n",
              "      <td>COL</td>\n",
              "      <td>49648685.0</td>\n",
              "      <td>America</td>\n",
              "    </tr>\n",
              "    <tr>\n",
              "      <th>3002</th>\n",
              "      <td>29/04/2020</td>\n",
              "      <td>29</td>\n",
              "      <td>4</td>\n",
              "      <td>2020</td>\n",
              "      <td>352</td>\n",
              "      <td>16</td>\n",
              "      <td>Colombia</td>\n",
              "      <td>CO</td>\n",
              "      <td>COL</td>\n",
              "      <td>49648685.0</td>\n",
              "      <td>America</td>\n",
              "    </tr>\n",
              "    <tr>\n",
              "      <th>3003</th>\n",
              "      <td>28/04/2020</td>\n",
              "      <td>28</td>\n",
              "      <td>4</td>\n",
              "      <td>2020</td>\n",
              "      <td>218</td>\n",
              "      <td>10</td>\n",
              "      <td>Colombia</td>\n",
              "      <td>CO</td>\n",
              "      <td>COL</td>\n",
              "      <td>49648685.0</td>\n",
              "      <td>America</td>\n",
              "    </tr>\n",
              "    <tr>\n",
              "      <th>3004</th>\n",
              "      <td>27/04/2020</td>\n",
              "      <td>27</td>\n",
              "      <td>4</td>\n",
              "      <td>2020</td>\n",
              "      <td>237</td>\n",
              "      <td>10</td>\n",
              "      <td>Colombia</td>\n",
              "      <td>CO</td>\n",
              "      <td>COL</td>\n",
              "      <td>49648685.0</td>\n",
              "      <td>America</td>\n",
              "    </tr>\n",
              "  </tbody>\n",
              "</table>\n",
              "</div>"
            ],
            "text/plain": [
              "         dateRep  day  month  ...  countryterritoryCode  popData2018  continentExp\n",
              "3000  01/05/2020    1      5  ...                   COL   49648685.0       America\n",
              "3001  30/04/2020   30      4  ...                   COL   49648685.0       America\n",
              "3002  29/04/2020   29      4  ...                   COL   49648685.0       America\n",
              "3003  28/04/2020   28      4  ...                   COL   49648685.0       America\n",
              "3004  27/04/2020   27      4  ...                   COL   49648685.0       America\n",
              "\n",
              "[5 rows x 11 columns]"
            ]
          },
          "metadata": {
            "tags": []
          },
          "execution_count": 37
        }
      ]
    },
    {
      "cell_type": "code",
      "metadata": {
        "id": "6ZoqrSjYO7bZ",
        "colab_type": "code",
        "outputId": "9e2bdd1c-bc32-4066-b24d-e695a427baa5",
        "colab": {
          "base_uri": "https://localhost:8080/",
          "height": 386
        }
      },
      "source": [
        "subset_df = df.loc[2995:3005, ['dateRep', 'countriesAndTerritories', 'cases', 'deaths']]\n",
        "\n",
        "subset_df"
      ],
      "execution_count": 0,
      "outputs": [
        {
          "output_type": "execute_result",
          "data": {
            "text/html": [
              "<div>\n",
              "<style scoped>\n",
              "    .dataframe tbody tr th:only-of-type {\n",
              "        vertical-align: middle;\n",
              "    }\n",
              "\n",
              "    .dataframe tbody tr th {\n",
              "        vertical-align: top;\n",
              "    }\n",
              "\n",
              "    .dataframe thead th {\n",
              "        text-align: right;\n",
              "    }\n",
              "</style>\n",
              "<table border=\"1\" class=\"dataframe\">\n",
              "  <thead>\n",
              "    <tr style=\"text-align: right;\">\n",
              "      <th></th>\n",
              "      <th>dateRep</th>\n",
              "      <th>countriesAndTerritories</th>\n",
              "      <th>cases</th>\n",
              "      <th>deaths</th>\n",
              "    </tr>\n",
              "  </thead>\n",
              "  <tbody>\n",
              "    <tr>\n",
              "      <th>2995</th>\n",
              "      <td>02/01/2020</td>\n",
              "      <td>China</td>\n",
              "      <td>0</td>\n",
              "      <td>0</td>\n",
              "    </tr>\n",
              "    <tr>\n",
              "      <th>2996</th>\n",
              "      <td>01/01/2020</td>\n",
              "      <td>China</td>\n",
              "      <td>0</td>\n",
              "      <td>0</td>\n",
              "    </tr>\n",
              "    <tr>\n",
              "      <th>2997</th>\n",
              "      <td>31/12/2019</td>\n",
              "      <td>China</td>\n",
              "      <td>27</td>\n",
              "      <td>0</td>\n",
              "    </tr>\n",
              "    <tr>\n",
              "      <th>2998</th>\n",
              "      <td>03/05/2020</td>\n",
              "      <td>Colombia</td>\n",
              "      <td>279</td>\n",
              "      <td>10</td>\n",
              "    </tr>\n",
              "    <tr>\n",
              "      <th>2999</th>\n",
              "      <td>02/05/2020</td>\n",
              "      <td>Colombia</td>\n",
              "      <td>499</td>\n",
              "      <td>21</td>\n",
              "    </tr>\n",
              "    <tr>\n",
              "      <th>3000</th>\n",
              "      <td>01/05/2020</td>\n",
              "      <td>Colombia</td>\n",
              "      <td>296</td>\n",
              "      <td>15</td>\n",
              "    </tr>\n",
              "    <tr>\n",
              "      <th>3001</th>\n",
              "      <td>30/04/2020</td>\n",
              "      <td>Colombia</td>\n",
              "      <td>262</td>\n",
              "      <td>9</td>\n",
              "    </tr>\n",
              "    <tr>\n",
              "      <th>3002</th>\n",
              "      <td>29/04/2020</td>\n",
              "      <td>Colombia</td>\n",
              "      <td>352</td>\n",
              "      <td>16</td>\n",
              "    </tr>\n",
              "    <tr>\n",
              "      <th>3003</th>\n",
              "      <td>28/04/2020</td>\n",
              "      <td>Colombia</td>\n",
              "      <td>218</td>\n",
              "      <td>10</td>\n",
              "    </tr>\n",
              "    <tr>\n",
              "      <th>3004</th>\n",
              "      <td>27/04/2020</td>\n",
              "      <td>Colombia</td>\n",
              "      <td>237</td>\n",
              "      <td>10</td>\n",
              "    </tr>\n",
              "    <tr>\n",
              "      <th>3005</th>\n",
              "      <td>26/04/2020</td>\n",
              "      <td>Colombia</td>\n",
              "      <td>261</td>\n",
              "      <td>8</td>\n",
              "    </tr>\n",
              "  </tbody>\n",
              "</table>\n",
              "</div>"
            ],
            "text/plain": [
              "         dateRep countriesAndTerritories  cases  deaths\n",
              "2995  02/01/2020                   China      0       0\n",
              "2996  01/01/2020                   China      0       0\n",
              "2997  31/12/2019                   China     27       0\n",
              "2998  03/05/2020                Colombia    279      10\n",
              "2999  02/05/2020                Colombia    499      21\n",
              "3000  01/05/2020                Colombia    296      15\n",
              "3001  30/04/2020                Colombia    262       9\n",
              "3002  29/04/2020                Colombia    352      16\n",
              "3003  28/04/2020                Colombia    218      10\n",
              "3004  27/04/2020                Colombia    237      10\n",
              "3005  26/04/2020                Colombia    261       8"
            ]
          },
          "metadata": {
            "tags": []
          },
          "execution_count": 40
        }
      ]
    },
    {
      "cell_type": "code",
      "metadata": {
        "id": "Hl5vjvMqPV2S",
        "colab_type": "code",
        "colab": {}
      },
      "source": [
        ""
      ],
      "execution_count": 0,
      "outputs": []
    },
    {
      "cell_type": "markdown",
      "metadata": {
        "id": "a-a9CvIhSFzz",
        "colab_type": "text"
      },
      "source": [
        "### Masking/Filtering"
      ]
    },
    {
      "cell_type": "code",
      "metadata": {
        "id": "ZLwD9VTjSL85",
        "colab_type": "code",
        "outputId": "1a1abda8-9d37-4770-b383-f51429fac973",
        "colab": {
          "base_uri": "https://localhost:8080/",
          "height": 225
        }
      },
      "source": [
        "peru_mask = df['countriesAndTerritories'] == 'Peru'\n",
        "\n",
        "peru_mask"
      ],
      "execution_count": 0,
      "outputs": [
        {
          "output_type": "execute_result",
          "data": {
            "text/plain": [
              "0        False\n",
              "1        False\n",
              "2        False\n",
              "3        False\n",
              "4        False\n",
              "         ...  \n",
              "14653    False\n",
              "14654    False\n",
              "14655    False\n",
              "14656    False\n",
              "14657    False\n",
              "Name: countriesAndTerritories, Length: 14658, dtype: bool"
            ]
          },
          "metadata": {
            "tags": []
          },
          "execution_count": 41
        }
      ]
    },
    {
      "cell_type": "code",
      "metadata": {
        "id": "xsaL2phWSa8L",
        "colab_type": "code",
        "outputId": "5870c3dd-bf52-4580-9299-dfe1bdb5b202",
        "colab": {
          "base_uri": "https://localhost:8080/",
          "height": 35
        }
      },
      "source": [
        "len(peru_mask)"
      ],
      "execution_count": 0,
      "outputs": [
        {
          "output_type": "execute_result",
          "data": {
            "text/plain": [
              "14658"
            ]
          },
          "metadata": {
            "tags": []
          },
          "execution_count": 42
        }
      ]
    },
    {
      "cell_type": "code",
      "metadata": {
        "id": "p3D3AJJTSeDQ",
        "colab_type": "code",
        "colab": {}
      },
      "source": [
        "# df_peru = df[peru_mask]\n",
        "df_peru = df[df['countriesAndTerritories'] == 'Peru']"
      ],
      "execution_count": 0,
      "outputs": []
    },
    {
      "cell_type": "code",
      "metadata": {
        "id": "Cd_vy14zTozO",
        "colab_type": "code",
        "outputId": "e5bb3630-435d-4e99-eefa-384706b63eec",
        "colab": {
          "base_uri": "https://localhost:8080/",
          "height": 202
        }
      },
      "source": [
        "df_peru.head(5)"
      ],
      "execution_count": 0,
      "outputs": [
        {
          "output_type": "execute_result",
          "data": {
            "text/html": [
              "<div>\n",
              "<style scoped>\n",
              "    .dataframe tbody tr th:only-of-type {\n",
              "        vertical-align: middle;\n",
              "    }\n",
              "\n",
              "    .dataframe tbody tr th {\n",
              "        vertical-align: top;\n",
              "    }\n",
              "\n",
              "    .dataframe thead th {\n",
              "        text-align: right;\n",
              "    }\n",
              "</style>\n",
              "<table border=\"1\" class=\"dataframe\">\n",
              "  <thead>\n",
              "    <tr style=\"text-align: right;\">\n",
              "      <th></th>\n",
              "      <th>dateRep</th>\n",
              "      <th>day</th>\n",
              "      <th>month</th>\n",
              "      <th>year</th>\n",
              "      <th>cases</th>\n",
              "      <th>deaths</th>\n",
              "      <th>countriesAndTerritories</th>\n",
              "      <th>geoId</th>\n",
              "      <th>countryterritoryCode</th>\n",
              "      <th>popData2018</th>\n",
              "      <th>continentExp</th>\n",
              "    </tr>\n",
              "  </thead>\n",
              "  <tbody>\n",
              "    <tr>\n",
              "      <th>10726</th>\n",
              "      <td>03/05/2020</td>\n",
              "      <td>3</td>\n",
              "      <td>5</td>\n",
              "      <td>2020</td>\n",
              "      <td>2075</td>\n",
              "      <td>76</td>\n",
              "      <td>Peru</td>\n",
              "      <td>PE</td>\n",
              "      <td>PER</td>\n",
              "      <td>31989256.0</td>\n",
              "      <td>America</td>\n",
              "    </tr>\n",
              "    <tr>\n",
              "      <th>10727</th>\n",
              "      <td>02/05/2020</td>\n",
              "      <td>2</td>\n",
              "      <td>5</td>\n",
              "      <td>2020</td>\n",
              "      <td>3483</td>\n",
              "      <td>73</td>\n",
              "      <td>Peru</td>\n",
              "      <td>PE</td>\n",
              "      <td>PER</td>\n",
              "      <td>31989256.0</td>\n",
              "      <td>America</td>\n",
              "    </tr>\n",
              "    <tr>\n",
              "      <th>10728</th>\n",
              "      <td>01/05/2020</td>\n",
              "      <td>1</td>\n",
              "      <td>5</td>\n",
              "      <td>2020</td>\n",
              "      <td>3045</td>\n",
              "      <td>108</td>\n",
              "      <td>Peru</td>\n",
              "      <td>PE</td>\n",
              "      <td>PER</td>\n",
              "      <td>31989256.0</td>\n",
              "      <td>America</td>\n",
              "    </tr>\n",
              "    <tr>\n",
              "      <th>10729</th>\n",
              "      <td>30/04/2020</td>\n",
              "      <td>30</td>\n",
              "      <td>4</td>\n",
              "      <td>2020</td>\n",
              "      <td>2741</td>\n",
              "      <td>89</td>\n",
              "      <td>Peru</td>\n",
              "      <td>PE</td>\n",
              "      <td>PER</td>\n",
              "      <td>31989256.0</td>\n",
              "      <td>America</td>\n",
              "    </tr>\n",
              "    <tr>\n",
              "      <th>10730</th>\n",
              "      <td>29/04/2020</td>\n",
              "      <td>29</td>\n",
              "      <td>4</td>\n",
              "      <td>2020</td>\n",
              "      <td>2491</td>\n",
              "      <td>72</td>\n",
              "      <td>Peru</td>\n",
              "      <td>PE</td>\n",
              "      <td>PER</td>\n",
              "      <td>31989256.0</td>\n",
              "      <td>America</td>\n",
              "    </tr>\n",
              "  </tbody>\n",
              "</table>\n",
              "</div>"
            ],
            "text/plain": [
              "          dateRep  day  month  ...  countryterritoryCode  popData2018  continentExp\n",
              "10726  03/05/2020    3      5  ...                   PER   31989256.0       America\n",
              "10727  02/05/2020    2      5  ...                   PER   31989256.0       America\n",
              "10728  01/05/2020    1      5  ...                   PER   31989256.0       America\n",
              "10729  30/04/2020   30      4  ...                   PER   31989256.0       America\n",
              "10730  29/04/2020   29      4  ...                   PER   31989256.0       America\n",
              "\n",
              "[5 rows x 11 columns]"
            ]
          },
          "metadata": {
            "tags": []
          },
          "execution_count": 47
        }
      ]
    },
    {
      "cell_type": "code",
      "metadata": {
        "id": "9Ey3JzzFSuzp",
        "colab_type": "code",
        "outputId": "093b6451-c29f-4516-acf5-17f85ba668a6",
        "colab": {
          "base_uri": "https://localhost:8080/",
          "height": 294
        }
      },
      "source": [
        "df_peru.describe()"
      ],
      "execution_count": 0,
      "outputs": [
        {
          "output_type": "execute_result",
          "data": {
            "text/html": [
              "<div>\n",
              "<style scoped>\n",
              "    .dataframe tbody tr th:only-of-type {\n",
              "        vertical-align: middle;\n",
              "    }\n",
              "\n",
              "    .dataframe tbody tr th {\n",
              "        vertical-align: top;\n",
              "    }\n",
              "\n",
              "    .dataframe thead th {\n",
              "        text-align: right;\n",
              "    }\n",
              "</style>\n",
              "<table border=\"1\" class=\"dataframe\">\n",
              "  <thead>\n",
              "    <tr style=\"text-align: right;\">\n",
              "      <th></th>\n",
              "      <th>day</th>\n",
              "      <th>month</th>\n",
              "      <th>year</th>\n",
              "      <th>cases</th>\n",
              "      <th>deaths</th>\n",
              "      <th>popData2018</th>\n",
              "    </tr>\n",
              "  </thead>\n",
              "  <tbody>\n",
              "    <tr>\n",
              "      <th>count</th>\n",
              "      <td>57.000000</td>\n",
              "      <td>57.000000</td>\n",
              "      <td>57.0</td>\n",
              "      <td>57.000000</td>\n",
              "      <td>57.000000</td>\n",
              "      <td>57.0</td>\n",
              "    </tr>\n",
              "    <tr>\n",
              "      <th>mean</th>\n",
              "      <td>16.456140</td>\n",
              "      <td>3.631579</td>\n",
              "      <td>2020.0</td>\n",
              "      <td>746.210526</td>\n",
              "      <td>21.052632</td>\n",
              "      <td>31989256.0</td>\n",
              "    </tr>\n",
              "    <tr>\n",
              "      <th>std</th>\n",
              "      <td>8.756773</td>\n",
              "      <td>0.586502</td>\n",
              "      <td>0.0</td>\n",
              "      <td>984.329100</td>\n",
              "      <td>26.978444</td>\n",
              "      <td>0.0</td>\n",
              "    </tr>\n",
              "    <tr>\n",
              "      <th>min</th>\n",
              "      <td>1.000000</td>\n",
              "      <td>3.000000</td>\n",
              "      <td>2020.0</td>\n",
              "      <td>0.000000</td>\n",
              "      <td>0.000000</td>\n",
              "      <td>31989256.0</td>\n",
              "    </tr>\n",
              "    <tr>\n",
              "      <th>25%</th>\n",
              "      <td>10.000000</td>\n",
              "      <td>3.000000</td>\n",
              "      <td>2020.0</td>\n",
              "      <td>29.000000</td>\n",
              "      <td>0.000000</td>\n",
              "      <td>31989256.0</td>\n",
              "    </tr>\n",
              "    <tr>\n",
              "      <th>50%</th>\n",
              "      <td>17.000000</td>\n",
              "      <td>4.000000</td>\n",
              "      <td>2020.0</td>\n",
              "      <td>181.000000</td>\n",
              "      <td>9.000000</td>\n",
              "      <td>31989256.0</td>\n",
              "    </tr>\n",
              "    <tr>\n",
              "      <th>75%</th>\n",
              "      <td>24.000000</td>\n",
              "      <td>4.000000</td>\n",
              "      <td>2020.0</td>\n",
              "      <td>1172.000000</td>\n",
              "      <td>37.000000</td>\n",
              "      <td>31989256.0</td>\n",
              "    </tr>\n",
              "    <tr>\n",
              "      <th>max</th>\n",
              "      <td>31.000000</td>\n",
              "      <td>5.000000</td>\n",
              "      <td>2020.0</td>\n",
              "      <td>3683.000000</td>\n",
              "      <td>108.000000</td>\n",
              "      <td>31989256.0</td>\n",
              "    </tr>\n",
              "  </tbody>\n",
              "</table>\n",
              "</div>"
            ],
            "text/plain": [
              "             day      month    year        cases      deaths  popData2018\n",
              "count  57.000000  57.000000    57.0    57.000000   57.000000         57.0\n",
              "mean   16.456140   3.631579  2020.0   746.210526   21.052632   31989256.0\n",
              "std     8.756773   0.586502     0.0   984.329100   26.978444          0.0\n",
              "min     1.000000   3.000000  2020.0     0.000000    0.000000   31989256.0\n",
              "25%    10.000000   3.000000  2020.0    29.000000    0.000000   31989256.0\n",
              "50%    17.000000   4.000000  2020.0   181.000000    9.000000   31989256.0\n",
              "75%    24.000000   4.000000  2020.0  1172.000000   37.000000   31989256.0\n",
              "max    31.000000   5.000000  2020.0  3683.000000  108.000000   31989256.0"
            ]
          },
          "metadata": {
            "tags": []
          },
          "execution_count": 46
        }
      ]
    },
    {
      "cell_type": "markdown",
      "metadata": {
        "id": "8C-EM7UTT_pk",
        "colab_type": "text"
      },
      "source": [
        "How many days has Peru reported?"
      ]
    },
    {
      "cell_type": "code",
      "metadata": {
        "id": "QtyOvF4pTLg2",
        "colab_type": "code",
        "outputId": "5eca6c37-81e3-4aae-efa2-c3572f1b4a18",
        "colab": {
          "base_uri": "https://localhost:8080/",
          "height": 35
        }
      },
      "source": [
        "len(df_peru)"
      ],
      "execution_count": 0,
      "outputs": [
        {
          "output_type": "execute_result",
          "data": {
            "text/plain": [
              "57"
            ]
          },
          "metadata": {
            "tags": []
          },
          "execution_count": 48
        }
      ]
    },
    {
      "cell_type": "markdown",
      "metadata": {
        "id": "s0KZsqBHTg7Q",
        "colab_type": "text"
      },
      "source": [
        "How many cases have been reported in Peru?"
      ]
    },
    {
      "cell_type": "code",
      "metadata": {
        "id": "kKbj9UWMTi_m",
        "colab_type": "code",
        "outputId": "3b290701-44b5-4478-bc7d-c428a5ccfccb",
        "colab": {
          "base_uri": "https://localhost:8080/",
          "height": 35
        }
      },
      "source": [
        "sum(df_peru['cases'])"
      ],
      "execution_count": 0,
      "outputs": [
        {
          "output_type": "execute_result",
          "data": {
            "text/plain": [
              "42534"
            ]
          },
          "metadata": {
            "tags": []
          },
          "execution_count": 49
        }
      ]
    },
    {
      "cell_type": "code",
      "metadata": {
        "id": "Fqg6WB0-T4FO",
        "colab_type": "code",
        "colab": {}
      },
      "source": [
        ""
      ],
      "execution_count": 0,
      "outputs": []
    },
    {
      "cell_type": "markdown",
      "metadata": {
        "id": "lluAn_UoUhrq",
        "colab_type": "text"
      },
      "source": [
        "How many deaths have been reported in Peru?"
      ]
    },
    {
      "cell_type": "code",
      "metadata": {
        "id": "d8CaP9GxUkCF",
        "colab_type": "code",
        "outputId": "5aa9da88-3737-4bfb-aca1-6881ff25ec9f",
        "colab": {
          "base_uri": "https://localhost:8080/",
          "height": 35
        }
      },
      "source": [
        "sum(df_peru['deaths'])"
      ],
      "execution_count": 0,
      "outputs": [
        {
          "output_type": "execute_result",
          "data": {
            "text/plain": [
              "1200"
            ]
          },
          "metadata": {
            "tags": []
          },
          "execution_count": 50
        }
      ]
    },
    {
      "cell_type": "code",
      "metadata": {
        "id": "u50tgnOCUmb4",
        "colab_type": "code",
        "outputId": "48437c72-eba6-4dda-9f50-ce45dcb1bac9",
        "colab": {
          "base_uri": "https://localhost:8080/",
          "height": 173
        }
      },
      "source": [
        "df_peru['deaths'].describe()"
      ],
      "execution_count": 0,
      "outputs": [
        {
          "output_type": "execute_result",
          "data": {
            "text/plain": [
              "count     57.000000\n",
              "mean      21.052632\n",
              "std       26.978444\n",
              "min        0.000000\n",
              "25%        0.000000\n",
              "50%        9.000000\n",
              "75%       37.000000\n",
              "max      108.000000\n",
              "Name: deaths, dtype: float64"
            ]
          },
          "metadata": {
            "tags": []
          },
          "execution_count": 51
        }
      ]
    },
    {
      "cell_type": "code",
      "metadata": {
        "id": "j57gzlO6Ut2e",
        "colab_type": "code",
        "colab": {}
      },
      "source": [
        ""
      ],
      "execution_count": 0,
      "outputs": []
    },
    {
      "cell_type": "markdown",
      "metadata": {
        "id": "ck5U8On2VBSZ",
        "colab_type": "text"
      },
      "source": [
        "When did Peru last report?\n",
        "* this is tricky via indexing but we can rely on the order of the data in this case\n",
        "* we can simply use `df_peru.head(1)` and look at the most recent"
      ]
    },
    {
      "cell_type": "code",
      "metadata": {
        "id": "yN6ZJIBFVDkb",
        "colab_type": "code",
        "outputId": "2ad8c91e-4d8d-422e-e064-799a3db8bca4",
        "colab": {
          "base_uri": "https://localhost:8080/",
          "height": 35
        }
      },
      "source": [
        "df_peru.dateRep[10726]"
      ],
      "execution_count": 0,
      "outputs": [
        {
          "output_type": "execute_result",
          "data": {
            "text/plain": [
              "'03/05/2020'"
            ]
          },
          "metadata": {
            "tags": []
          },
          "execution_count": 58
        }
      ]
    },
    {
      "cell_type": "code",
      "metadata": {
        "id": "kNu8l01QVHzh",
        "colab_type": "code",
        "colab": {}
      },
      "source": [
        ""
      ],
      "execution_count": 0,
      "outputs": []
    },
    {
      "cell_type": "markdown",
      "metadata": {
        "id": "PdeCFH_-gleF",
        "colab_type": "text"
      },
      "source": [
        "What is the population of peru?"
      ]
    },
    {
      "cell_type": "code",
      "metadata": {
        "id": "lD635B2Ugo6G",
        "colab_type": "code",
        "outputId": "5a25317c-20fb-40f4-a57f-0ba003298892",
        "colab": {
          "base_uri": "https://localhost:8080/",
          "height": 35
        }
      },
      "source": [
        "peru_population = int(max(df_peru['popData2018']))\n",
        "peru_population"
      ],
      "execution_count": 0,
      "outputs": [
        {
          "output_type": "execute_result",
          "data": {
            "text/plain": [
              "31989256"
            ]
          },
          "metadata": {
            "tags": []
          },
          "execution_count": 77
        }
      ]
    },
    {
      "cell_type": "markdown",
      "metadata": {
        "id": "BlxvOV_Rjz7L",
        "colab_type": "text"
      },
      "source": [
        "What is the population of Anguilla?"
      ]
    },
    {
      "cell_type": "code",
      "metadata": {
        "id": "pO5oFrbBj4hU",
        "colab_type": "code",
        "outputId": "7bc856af-c26b-4bd7-dd3d-1beaecae65b6",
        "colab": {
          "base_uri": "https://localhost:8080/",
          "height": 693
        }
      },
      "source": [
        "df_anguilla = df[df['countriesAndTerritories'] == 'Anguilla']\n",
        "\n",
        "df_anguilla['popData2018']"
      ],
      "execution_count": 0,
      "outputs": [
        {
          "output_type": "execute_result",
          "data": {
            "text/plain": [
              "385   NaN\n",
              "386   NaN\n",
              "387   NaN\n",
              "388   NaN\n",
              "389   NaN\n",
              "390   NaN\n",
              "391   NaN\n",
              "392   NaN\n",
              "393   NaN\n",
              "394   NaN\n",
              "395   NaN\n",
              "396   NaN\n",
              "397   NaN\n",
              "398   NaN\n",
              "399   NaN\n",
              "400   NaN\n",
              "401   NaN\n",
              "402   NaN\n",
              "403   NaN\n",
              "404   NaN\n",
              "405   NaN\n",
              "406   NaN\n",
              "407   NaN\n",
              "408   NaN\n",
              "409   NaN\n",
              "410   NaN\n",
              "411   NaN\n",
              "412   NaN\n",
              "413   NaN\n",
              "414   NaN\n",
              "415   NaN\n",
              "416   NaN\n",
              "417   NaN\n",
              "418   NaN\n",
              "419   NaN\n",
              "420   NaN\n",
              "421   NaN\n",
              "422   NaN\n",
              "Name: popData2018, dtype: float64"
            ]
          },
          "metadata": {
            "tags": []
          },
          "execution_count": 94
        }
      ]
    },
    {
      "cell_type": "markdown",
      "metadata": {
        "id": "kAbMO01jV5Pf",
        "colab_type": "text"
      },
      "source": [
        "## Let's explore through plotting all the countries\n",
        "* daily cases/deaths plot\n",
        "* cumulative plot"
      ]
    },
    {
      "cell_type": "code",
      "metadata": {
        "id": "RXqIepVtWA7O",
        "colab_type": "code",
        "colab": {}
      },
      "source": [
        "def cumulate(some_list):\n",
        "    output = []\n",
        "    accum = 0\n",
        "\n",
        "    for num in some_list:\n",
        "        accum += num\n",
        "        output.append(accum)\n",
        "\n",
        "    return output"
      ],
      "execution_count": 0,
      "outputs": []
    },
    {
      "cell_type": "code",
      "metadata": {
        "id": "VgMl5qdsWXmH",
        "colab_type": "code",
        "colab": {}
      },
      "source": [
        "def plot_cases_deaths(df_to_check, country, cumulative=False):\n",
        "    df_country = df_to_check[df_to_check['countriesAndTerritories'] == country]\n",
        "\n",
        "    # casting to lists (for ed purposes)\n",
        "    cases_country = list(df_country['cases'][::-1])\n",
        "    deaths_country = list(df_country['deaths'][::-1])\n",
        "    dates_country = list(df_country['dateRep'][::-1])\n",
        "\n",
        "    if str(max(df_country['popData2018'])) == 'nan':\n",
        "        country_population = 'not in dataset'\n",
        "    else:\n",
        "        country_population = int(max(df_country['popData2018']))\n",
        "\n",
        "    if cumulative == True:\n",
        "        cases_country = cumulate(cases_country)\n",
        "        deaths_country = cumulate(deaths_country)\n",
        "\n",
        "    max_deaths = max(deaths_country)\n",
        "    max_cases  = max(cases_country)\n",
        "    \n",
        "    fig = plt.figure()\n",
        "    ax = fig.add_subplot(1,1,1)\n",
        "\n",
        "    ax.plot(dates_country, cases_country, color='blue')\n",
        "    ax.plot(dates_country, deaths_country, color='red')\n",
        "\n",
        "    ax.set_ylabel('counts')\n",
        "    ax.set_xlabel(f'Up to:{dates_country[-1]}, source: https://data.europa.eu/')\n",
        "    ax.set_xticklabels(dates_country, rotation=80)\n",
        "\n",
        "\n",
        "    n = len(dates_country)\n",
        "    if n > 10 and n < 30:\n",
        "        n = int(n / 3)\n",
        "    elif n >= 30 and n < 60:\n",
        "        n = int(n / 6)\n",
        "    elif n >= 60 and n < 100:\n",
        "        n = int(n / 9)\n",
        "    \n",
        "    if len(dates_country) > 10:\n",
        "        [l.set_visible(False) for (i,l) in enumerate(ax.xaxis.get_ticklabels()[0:-1]) if i % n != 0]\n",
        "\n",
        "\n",
        "\n",
        "    country_ = country.replace('_', ' ')\n",
        "    plt.suptitle(f'{country_} Reported {len(df_country)} days, COVID-19', fontsize=14)\n",
        "\n",
        "    if cumulative == False:\n",
        "        plt.title(f'max cases in 1 day: {max_cases}, max deaths in 1 day: {max_deaths}, Pop: {country_population}')\n",
        "    else:\n",
        "        plt.title(f'total cases: {max_cases}, total_deaths: {max_deaths}, Pop: {country_population}')\n",
        "\n",
        "    if cumulative == False:\n",
        "        blue = mpatches.Patch(color='blue', label='Daily cases')\n",
        "        red = mpatches.Patch(color='red', label='Daily deaths')\n",
        "    else:\n",
        "        blue = mpatches.Patch(color='blue', label='Cumulative cases')\n",
        "        red = mpatches.Patch(color='red', label='Cumulative deaths')\n",
        "\n",
        "    plt.legend(handles=[blue, red])\n",
        "\n",
        "    plt.show()\n",
        "    "
      ],
      "execution_count": 0,
      "outputs": []
    },
    {
      "cell_type": "code",
      "metadata": {
        "id": "E6uumBeZa6Tv",
        "colab_type": "code",
        "outputId": "2c7aabed-2420-4ff3-90f2-6574ffd95263",
        "colab": {
          "base_uri": "https://localhost:8080/",
          "height": 356
        }
      },
      "source": [
        "plot_cases_deaths(df, 'Peru', cumulative=False)"
      ],
      "execution_count": 0,
      "outputs": [
        {
          "output_type": "display_data",
          "data": {
            "image/png": "[encoded data removed]",
            "text/plain": [
              "<Figure size 432x288 with 1 Axes>"
            ]
          },
          "metadata": {
            "tags": [],
            "needs_background": "light"
          }
        }
      ]
    },
    {
      "cell_type": "code",
      "metadata": {
        "id": "6_3hWOyDa8vE",
        "colab_type": "code",
        "outputId": "b3e1f8e8-6fe8-47f9-aa0a-84ff32bad975",
        "colab": {
          "base_uri": "https://localhost:8080/",
          "height": 356
        }
      },
      "source": [
        "plot_cases_deaths(df, 'Peru', cumulative=True)"
      ],
      "execution_count": 0,
      "outputs": [
        {
          "output_type": "display_data",
          "data": {
            "image/png": "[encoded data removed]",
            "text/plain": [
              "<Figure size 432x288 with 1 Axes>"
            ]
          },
          "metadata": {
            "tags": [],
            "needs_background": "light"
          }
        }
      ]
    },
    {
      "cell_type": "code",
      "metadata": {
        "id": "edIvmqYObdeI",
        "colab_type": "code",
        "colab": {}
      },
      "source": [
        ""
      ],
      "execution_count": 0,
      "outputs": []
    },
    {
      "cell_type": "markdown",
      "metadata": {
        "id": "BOZAsc7OczNh",
        "colab_type": "text"
      },
      "source": [
        "## Plot all countries"
      ]
    },
    {
      "cell_type": "code",
      "metadata": {
        "id": "57xOKxyxc25A",
        "colab_type": "code",
        "outputId": "20628e72-3fae-4030-f511-10075468c292",
        "colab": {
          "base_uri": "https://localhost:8080/",
          "height": 1000
        }
      },
      "source": [
        "for country_name in df['countriesAndTerritories'].unique():\n",
        "    plot_cases_deaths(df, country_name, cumulative=False)\n",
        "    plot_cases_deaths(df, country_name, cumulative=True)"
      ],
      "execution_count": 0,
      "outputs": []
    },
    {
      "cell_type": "markdown",
      "metadata": {
        "id": "OS8muS1lLYm6",
        "colab_type": "text"
      },
      "source": [
        "## Two sample Z-tests for Population Proportion\n",
        "\n",
        "A two sample z-test for population proportion can help one determine whether or not the difference between two population proportions are different to a statistically significant level. In this case, we will be making comparisons between the overall death rates across a nation's population. While we will be able to make these comparisons. \n",
        "\n",
        "__*NOTE:*__<br>\n",
        "It is important to note, that the conclusions we reach merely determine whether the difference is statistically different, and we cannot necessarily contribute the differences to any specific factor. However, this can help us do some \"data storytelling,\" where a statistician is able to hypothesize what __*might*__ be causing the differences, but much further analysis would be necessary to come to any sort of causitive conclusions.\n",
        "\n",
        "<br><br><br><br>"
      ]
    },
    {
      "cell_type": "markdown",
      "metadata": {
        "id": "WcGdku6NM2hG",
        "colab_type": "text"
      },
      "source": [
        "### State the Hypotheses\n",
        "\n",
        "As with all hypothesis testing, it is first important to identify what exactly we are testing. In this case, $P_1$ represents the population proportion of the first nation-state, and $P_2$ represents the proportion from the second nation-state. See the Possible Hypotheses that will be tested below:\n",
        "<br><br>\n",
        "\n",
        "$$ \\text{Null Hypothesis: } H_0: p_1 = p_2 $$\n",
        "$$ \\text{Null Hypothesis: } H_0: p_1 - p_2 = 0  $$ <br>\n",
        "$$ \\text{Alternative Hypothesis #1: } H_a: p_1 > p_2  $$\n",
        "$$ \\text{Alternative Hypothesis #2: } H_a: p_1 < p_2 $$\n",
        "$$ \\text{Alternative Hypothesis #3: } H_a: p_1 \\neq p_2 $$\n",
        "\n",
        "In this experiment, we will be using the first two alternative hypothesis, if we are able to see the rate of death is greater in $P_1$ than in $P2$, use __*Alternative Hypothesis #1*__; alternatively, if the death rate is lesser in $P_1$ than in $P_2$, use __*Alternative Hypothesis #2*__. Use $\\alpha = 0.05$.\n",
        "<br><br><br><br>\n"
      ]
    },
    {
      "cell_type": "markdown",
      "metadata": {
        "id": "56Qn4TPtNqtX",
        "colab_type": "text"
      },
      "source": [
        "### Decision Rule\n",
        "It is necessary to define a __*decision rule*__, where one specifies the level of confidence necessary to reject the null hypothesis. Typical values for this threshold are $ \\alpha = 0.01, \\ \\alpha = 0.05, \\text{ or}, \\ \\alpha = 0.10 $, in this case, use $\\alpha = 0.05$. \n",
        "\n",
        "This value, represented by the lower-case greek letter alpha, is in essence a \"confidence level\". This is to say that we need to be confident that the difference in population proportions are not due to chance (sampling error), in this case with $ \\alpha = 0.05 $, one can be sure that there is less than a $0.05$ probability that the differences are due to chance. Here, it is reasonable to choose a somewhat strict rule, as we are dealing with a population, as opposed to a sample.\n",
        "\n",
        "The value that is compared against the alpha, is the p-value which is calculated by using a __*Z-score*__. To make the decision, the null hypothesis is always chosen unless the p-value is less than the alpha, in which case, the null hypothesis is rejected and the alternative hypothesis is accepted.\n",
        "<br><br><br><br>"
      ]
    },
    {
      "cell_type": "markdown",
      "metadata": {
        "id": "o7HKh-yBOAyh",
        "colab_type": "text"
      },
      "source": [
        "### Calculate the Z-score\n",
        "The Z-score is a standard score that describes the number of standard deviations away from the mean. The formula for calculating the Z-score of a two-sample population proportion is below:\n",
        "\n",
        "$$ Z = \\frac{(\\hat{p}_1 - \\hat{p}_2) - 0}{\\sqrt{\\hat{p}(1 - \\hat{p})(\\frac{1}{n_1} + \\frac{1}{n_2})}} $$\n",
        "\n",
        "__*Note:*__ \n",
        "That there are some variables/notations which need to be explained:\n",
        "\n",
        "$ \\hat{p} $ is the overall proportion (rate of death), in essence a weighted average of both populations<br>\n",
        "$ \\hat{p}_1 $ is the proportion (rate of death) from the first population<br>\n",
        "$ \\hat{p}_2 $ is the proportion (rate of death) from the second population<br>\n",
        "$ n_1 $ is the number of \"samples\" from the first population, in this case the reported population<br>\n",
        "$ n_2 $ is the number of \"samples\" from the second population, in this case the reported population<br>\n",
        "\n",
        "The Z-score can be used to find a __*p-value*__. The p-value tells us the probability that the difference is caused by chance, if the actual proportions were equal, as is stated in the Null Hypothesis.\n",
        "\n",
        "We will be using the module `statsmodels` to help us make these calculations, there is a two sample Z-test for proportion built into the module, and it will give us both a Z-score and p-value and we can make conclusions about the hypothesis test. "
      ]
    },
    {
      "cell_type": "markdown",
      "metadata": {
        "id": "q75IBNmtPQMl",
        "colab_type": "text"
      },
      "source": [
        "## Extract the data necessary for the hypothesis tests\n",
        "### Aggregate the dataframe, showing total deaths by country"
      ]
    },
    {
      "cell_type": "code",
      "metadata": {
        "id": "ZdKTU_JhNrVC",
        "colab_type": "code",
        "outputId": "7b10caaa-dba8-4583-9404-1560b40bdcd9",
        "colab": {
          "base_uri": "https://localhost:8080/",
          "height": 450
        }
      },
      "source": [
        "aggregate_df_deaths = df.groupby(['countriesAndTerritories']).sum()[['deaths']]\n",
        "\n",
        "aggregate_df_deaths"
      ],
      "execution_count": 0,
      "outputs": [
        {
          "output_type": "execute_result",
          "data": {
            "text/html": [
              "<div>\n",
              "<style scoped>\n",
              "    .dataframe tbody tr th:only-of-type {\n",
              "        vertical-align: middle;\n",
              "    }\n",
              "\n",
              "    .dataframe tbody tr th {\n",
              "        vertical-align: top;\n",
              "    }\n",
              "\n",
              "    .dataframe thead th {\n",
              "        text-align: right;\n",
              "    }\n",
              "</style>\n",
              "<table border=\"1\" class=\"dataframe\">\n",
              "  <thead>\n",
              "    <tr style=\"text-align: right;\">\n",
              "      <th></th>\n",
              "      <th>deaths</th>\n",
              "    </tr>\n",
              "    <tr>\n",
              "      <th>countriesAndTerritories</th>\n",
              "      <th></th>\n",
              "    </tr>\n",
              "  </thead>\n",
              "  <tbody>\n",
              "    <tr>\n",
              "      <th>Afghanistan</th>\n",
              "      <td>72</td>\n",
              "    </tr>\n",
              "    <tr>\n",
              "      <th>Albania</th>\n",
              "      <td>31</td>\n",
              "    </tr>\n",
              "    <tr>\n",
              "      <th>Algeria</th>\n",
              "      <td>459</td>\n",
              "    </tr>\n",
              "    <tr>\n",
              "      <th>Andorra</th>\n",
              "      <td>44</td>\n",
              "    </tr>\n",
              "    <tr>\n",
              "      <th>Angola</th>\n",
              "      <td>2</td>\n",
              "    </tr>\n",
              "    <tr>\n",
              "      <th>...</th>\n",
              "      <td>...</td>\n",
              "    </tr>\n",
              "    <tr>\n",
              "      <th>Vietnam</th>\n",
              "      <td>0</td>\n",
              "    </tr>\n",
              "    <tr>\n",
              "      <th>Western_Sahara</th>\n",
              "      <td>0</td>\n",
              "    </tr>\n",
              "    <tr>\n",
              "      <th>Yemen</th>\n",
              "      <td>2</td>\n",
              "    </tr>\n",
              "    <tr>\n",
              "      <th>Zambia</th>\n",
              "      <td>3</td>\n",
              "    </tr>\n",
              "    <tr>\n",
              "      <th>Zimbabwe</th>\n",
              "      <td>4</td>\n",
              "    </tr>\n",
              "  </tbody>\n",
              "</table>\n",
              "<p>209 rows × 1 columns</p>\n",
              "</div>"
            ],
            "text/plain": [
              "                         deaths\n",
              "countriesAndTerritories        \n",
              "Afghanistan                  72\n",
              "Albania                      31\n",
              "Algeria                     459\n",
              "Andorra                      44\n",
              "Angola                        2\n",
              "...                         ...\n",
              "Vietnam                       0\n",
              "Western_Sahara                0\n",
              "Yemen                         2\n",
              "Zambia                        3\n",
              "Zimbabwe                      4\n",
              "\n",
              "[209 rows x 1 columns]"
            ]
          },
          "metadata": {
            "tags": []
          },
          "execution_count": 43
        }
      ]
    },
    {
      "cell_type": "markdown",
      "metadata": {
        "id": "L1sS6ANuQBmZ",
        "colab_type": "text"
      },
      "source": [
        "### Aggregate the dataframe, getting the average population\n",
        "__*Note:*__ All population data is the same for each country"
      ]
    },
    {
      "cell_type": "code",
      "metadata": {
        "id": "yJT9KIDQPl9V",
        "colab_type": "code",
        "outputId": "fee3c8ab-2ea0-483f-f835-233e25325f00",
        "colab": {
          "base_uri": "https://localhost:8080/",
          "height": 450
        }
      },
      "source": [
        "aggregate_df_pop = df.groupby(['countriesAndTerritories']).mean()[['popData2018']]\n",
        "\n",
        "aggregate_df_pop"
      ],
      "execution_count": 0,
      "outputs": [
        {
          "output_type": "execute_result",
          "data": {
            "text/html": [
              "<div>\n",
              "<style scoped>\n",
              "    .dataframe tbody tr th:only-of-type {\n",
              "        vertical-align: middle;\n",
              "    }\n",
              "\n",
              "    .dataframe tbody tr th {\n",
              "        vertical-align: top;\n",
              "    }\n",
              "\n",
              "    .dataframe thead th {\n",
              "        text-align: right;\n",
              "    }\n",
              "</style>\n",
              "<table border=\"1\" class=\"dataframe\">\n",
              "  <thead>\n",
              "    <tr style=\"text-align: right;\">\n",
              "      <th></th>\n",
              "      <th>popData2018</th>\n",
              "    </tr>\n",
              "    <tr>\n",
              "      <th>countriesAndTerritories</th>\n",
              "      <th></th>\n",
              "    </tr>\n",
              "  </thead>\n",
              "  <tbody>\n",
              "    <tr>\n",
              "      <th>Afghanistan</th>\n",
              "      <td>37172386.0</td>\n",
              "    </tr>\n",
              "    <tr>\n",
              "      <th>Albania</th>\n",
              "      <td>2866376.0</td>\n",
              "    </tr>\n",
              "    <tr>\n",
              "      <th>Algeria</th>\n",
              "      <td>42228429.0</td>\n",
              "    </tr>\n",
              "    <tr>\n",
              "      <th>Andorra</th>\n",
              "      <td>77006.0</td>\n",
              "    </tr>\n",
              "    <tr>\n",
              "      <th>Angola</th>\n",
              "      <td>30809762.0</td>\n",
              "    </tr>\n",
              "    <tr>\n",
              "      <th>...</th>\n",
              "      <td>...</td>\n",
              "    </tr>\n",
              "    <tr>\n",
              "      <th>Vietnam</th>\n",
              "      <td>95540395.0</td>\n",
              "    </tr>\n",
              "    <tr>\n",
              "      <th>Western_Sahara</th>\n",
              "      <td>NaN</td>\n",
              "    </tr>\n",
              "    <tr>\n",
              "      <th>Yemen</th>\n",
              "      <td>28498687.0</td>\n",
              "    </tr>\n",
              "    <tr>\n",
              "      <th>Zambia</th>\n",
              "      <td>17351822.0</td>\n",
              "    </tr>\n",
              "    <tr>\n",
              "      <th>Zimbabwe</th>\n",
              "      <td>14439018.0</td>\n",
              "    </tr>\n",
              "  </tbody>\n",
              "</table>\n",
              "<p>209 rows × 1 columns</p>\n",
              "</div>"
            ],
            "text/plain": [
              "                         popData2018\n",
              "countriesAndTerritories             \n",
              "Afghanistan               37172386.0\n",
              "Albania                    2866376.0\n",
              "Algeria                   42228429.0\n",
              "Andorra                      77006.0\n",
              "Angola                    30809762.0\n",
              "...                              ...\n",
              "Vietnam                   95540395.0\n",
              "Western_Sahara                   NaN\n",
              "Yemen                     28498687.0\n",
              "Zambia                    17351822.0\n",
              "Zimbabwe                  14439018.0\n",
              "\n",
              "[209 rows x 1 columns]"
            ]
          },
          "metadata": {
            "tags": []
          },
          "execution_count": 45
        }
      ]
    },
    {
      "cell_type": "markdown",
      "metadata": {
        "id": "nL9fiHMhQkVi",
        "colab_type": "text"
      },
      "source": [
        "### Put the dataframes together by concatenation"
      ]
    },
    {
      "cell_type": "code",
      "metadata": {
        "id": "hhuEYK5qQYOc",
        "colab_type": "code",
        "outputId": "c3ef9f56-1cd4-435e-d038-6dd260f5918c",
        "colab": {
          "base_uri": "https://localhost:8080/",
          "height": 235
        }
      },
      "source": [
        "aggregate_df = pd.concat([aggregate_df_deaths, aggregate_df_pop], axis=1)\n",
        "\n",
        "aggregate_df.head()"
      ],
      "execution_count": 0,
      "outputs": [
        {
          "output_type": "execute_result",
          "data": {
            "text/html": [
              "<div>\n",
              "<style scoped>\n",
              "    .dataframe tbody tr th:only-of-type {\n",
              "        vertical-align: middle;\n",
              "    }\n",
              "\n",
              "    .dataframe tbody tr th {\n",
              "        vertical-align: top;\n",
              "    }\n",
              "\n",
              "    .dataframe thead th {\n",
              "        text-align: right;\n",
              "    }\n",
              "</style>\n",
              "<table border=\"1\" class=\"dataframe\">\n",
              "  <thead>\n",
              "    <tr style=\"text-align: right;\">\n",
              "      <th></th>\n",
              "      <th>deaths</th>\n",
              "      <th>popData2018</th>\n",
              "    </tr>\n",
              "    <tr>\n",
              "      <th>countriesAndTerritories</th>\n",
              "      <th></th>\n",
              "      <th></th>\n",
              "    </tr>\n",
              "  </thead>\n",
              "  <tbody>\n",
              "    <tr>\n",
              "      <th>Afghanistan</th>\n",
              "      <td>72</td>\n",
              "      <td>37172386.0</td>\n",
              "    </tr>\n",
              "    <tr>\n",
              "      <th>Albania</th>\n",
              "      <td>31</td>\n",
              "      <td>2866376.0</td>\n",
              "    </tr>\n",
              "    <tr>\n",
              "      <th>Algeria</th>\n",
              "      <td>459</td>\n",
              "      <td>42228429.0</td>\n",
              "    </tr>\n",
              "    <tr>\n",
              "      <th>Andorra</th>\n",
              "      <td>44</td>\n",
              "      <td>77006.0</td>\n",
              "    </tr>\n",
              "    <tr>\n",
              "      <th>Angola</th>\n",
              "      <td>2</td>\n",
              "      <td>30809762.0</td>\n",
              "    </tr>\n",
              "  </tbody>\n",
              "</table>\n",
              "</div>"
            ],
            "text/plain": [
              "                         deaths  popData2018\n",
              "countriesAndTerritories                     \n",
              "Afghanistan                  72   37172386.0\n",
              "Albania                      31    2866376.0\n",
              "Algeria                     459   42228429.0\n",
              "Andorra                      44      77006.0\n",
              "Angola                        2   30809762.0"
            ]
          },
          "metadata": {
            "tags": []
          },
          "execution_count": 46
        }
      ]
    },
    {
      "cell_type": "markdown",
      "metadata": {
        "id": "vQLnjfGtRHEA",
        "colab_type": "text"
      },
      "source": [
        "### Create a column for deaths in terms of proportion of population"
      ]
    },
    {
      "cell_type": "code",
      "metadata": {
        "id": "kqROAtyhRAWA",
        "colab_type": "code",
        "outputId": "04b02ffd-e0b4-4e2f-cd97-4644a0b8bcfb",
        "colab": {
          "base_uri": "https://localhost:8080/",
          "height": 235
        }
      },
      "source": [
        "aggregate_df = aggregate_df.assign(death_by_pop=aggregate_df['deaths'] / aggregate_df['popData2018'])\n",
        "\n",
        "aggregate_df.head()"
      ],
      "execution_count": 0,
      "outputs": [
        {
          "output_type": "execute_result",
          "data": {
            "text/html": [
              "<div>\n",
              "<style scoped>\n",
              "    .dataframe tbody tr th:only-of-type {\n",
              "        vertical-align: middle;\n",
              "    }\n",
              "\n",
              "    .dataframe tbody tr th {\n",
              "        vertical-align: top;\n",
              "    }\n",
              "\n",
              "    .dataframe thead th {\n",
              "        text-align: right;\n",
              "    }\n",
              "</style>\n",
              "<table border=\"1\" class=\"dataframe\">\n",
              "  <thead>\n",
              "    <tr style=\"text-align: right;\">\n",
              "      <th></th>\n",
              "      <th>deaths</th>\n",
              "      <th>popData2018</th>\n",
              "      <th>death_by_pop</th>\n",
              "    </tr>\n",
              "    <tr>\n",
              "      <th>countriesAndTerritories</th>\n",
              "      <th></th>\n",
              "      <th></th>\n",
              "      <th></th>\n",
              "    </tr>\n",
              "  </thead>\n",
              "  <tbody>\n",
              "    <tr>\n",
              "      <th>Afghanistan</th>\n",
              "      <td>72</td>\n",
              "      <td>37172386.0</td>\n",
              "      <td>1.936922e-06</td>\n",
              "    </tr>\n",
              "    <tr>\n",
              "      <th>Albania</th>\n",
              "      <td>31</td>\n",
              "      <td>2866376.0</td>\n",
              "      <td>1.081505e-05</td>\n",
              "    </tr>\n",
              "    <tr>\n",
              "      <th>Algeria</th>\n",
              "      <td>459</td>\n",
              "      <td>42228429.0</td>\n",
              "      <td>1.086945e-05</td>\n",
              "    </tr>\n",
              "    <tr>\n",
              "      <th>Andorra</th>\n",
              "      <td>44</td>\n",
              "      <td>77006.0</td>\n",
              "      <td>5.713840e-04</td>\n",
              "    </tr>\n",
              "    <tr>\n",
              "      <th>Angola</th>\n",
              "      <td>2</td>\n",
              "      <td>30809762.0</td>\n",
              "      <td>6.491449e-08</td>\n",
              "    </tr>\n",
              "  </tbody>\n",
              "</table>\n",
              "</div>"
            ],
            "text/plain": [
              "                         deaths  popData2018  death_by_pop\n",
              "countriesAndTerritories                                   \n",
              "Afghanistan                  72   37172386.0  1.936922e-06\n",
              "Albania                      31    2866376.0  1.081505e-05\n",
              "Algeria                     459   42228429.0  1.086945e-05\n",
              "Andorra                      44      77006.0  5.713840e-04\n",
              "Angola                        2   30809762.0  6.491449e-08"
            ]
          },
          "metadata": {
            "tags": []
          },
          "execution_count": 48
        }
      ]
    },
    {
      "cell_type": "markdown",
      "metadata": {
        "id": "fSqPwwgPRxXC",
        "colab_type": "text"
      },
      "source": [
        "### Choose some countries of interest\n",
        "__*Note*__: Countries listed are those who have been widely reported to have either 'good' or 'bad' responses from their government."
      ]
    },
    {
      "cell_type": "code",
      "metadata": {
        "id": "Bu0XHw_tRhOY",
        "colab_type": "code",
        "outputId": "c4c613d3-2b01-4e94-aafe-b16b269e6c5a",
        "colab": {
          "base_uri": "https://localhost:8080/",
          "height": 238
        }
      },
      "source": [
        "lim_aggregate_df = aggregate_df.loc[[\n",
        "                                     'United_States_of_America',\n",
        "                                     'South_Korea',\n",
        "                                     'China',\n",
        "                                     'Germany',\n",
        "                                     'Taiwan', \n",
        "                                     'Sweden', \n",
        "                                     'Italy', \n",
        "                                     'United_Kingdom',\n",
        "                                     'France', \n",
        "                                     'Singapore',\n",
        "                                     'New_Zealand',\n",
        "                                    ]]\n",
        "\n",
        "print(lim_aggregate_df)"
      ],
      "execution_count": 0,
      "outputs": [
        {
          "output_type": "stream",
          "text": [
            "                          deaths   popData2018  death_by_pop\n",
            "countriesAndTerritories                                     \n",
            "United_States_of_America   66385  3.271674e+08  2.029083e-04\n",
            "South_Korea                  250  5.163526e+07  4.841653e-06\n",
            "China                       4637  1.392730e+09  3.329432e-06\n",
            "Germany                     6649  8.292792e+07  8.017806e-05\n",
            "Taiwan                         6  2.378045e+07  2.523081e-07\n",
            "Sweden                      2669  1.018318e+07  2.620990e-04\n",
            "Italy                      28710  6.043128e+07  4.750851e-04\n",
            "United_Kingdom             28131  6.648899e+07  4.230926e-04\n",
            "France                     24760  6.698724e+07  3.696226e-04\n",
            "Singapore                     17  5.638676e+06  3.014892e-06\n",
            "New_Zealand                   20  4.885500e+06  4.093747e-06\n"
          ],
          "name": "stdout"
        }
      ]
    },
    {
      "cell_type": "markdown",
      "metadata": {
        "id": "9PA1gZ5QSwI5",
        "colab_type": "text"
      },
      "source": [
        "### Use the statsmodels module to complete the Z-test for USA vs. South Korea"
      ]
    },
    {
      "cell_type": "code",
      "metadata": {
        "id": "IypkX3FTSj_g",
        "colab_type": "code",
        "outputId": "76bcaac8-c5fa-40e8-d7dd-6a23acd4ede2",
        "colab": {
          "base_uri": "https://localhost:8080/",
          "height": 34
        }
      },
      "source": [
        "from statsmodels.stats.proportion import proportions_ztest\n",
        "import numpy as np\n",
        "\n",
        "num_obs = np.array([lim_aggregate_df.loc['United_States_of_America'].popData2018,\n",
        "                    lim_aggregate_df.loc['South_Korea'].popData2018])\n",
        "\n",
        "num_deaths = np.array([lim_aggregate_df.loc['United_States_of_America'].deaths,\n",
        "                       lim_aggregate_df.loc['South_Korea'].deaths])\n",
        "\n",
        "stat, pval = proportions_ztest(num_deaths, num_obs)\n",
        "\n",
        "print(f'Z-Statistic: {stat:.5f} ', f'\\tp-value: {pval:.5f}')"
      ],
      "execution_count": 0,
      "outputs": [
        {
          "output_type": "stream",
          "text": [
            "Z-Statistic: 99.73708  \tp-value: 0.00000\n"
          ],
          "name": "stdout"
        }
      ]
    },
    {
      "cell_type": "markdown",
      "metadata": {
        "id": "jD3EuUInWBwZ",
        "colab_type": "text"
      },
      "source": [
        "#### Hypotheses and Conclusion of the Hypothesis Test\n",
        "\n",
        "$$ H_0: p_{United \\ States} = p_{South \\ Korea} $$\n",
        "$$ H_a: p_{United \\ States} > p_{South \\ Korea} $$\n",
        "\n",
        "With a Z-score of 99.74, and a p-value of 0, the null hypothesis is rejected and the alternative hypothesis is accepted.\n",
        "\n",
        "There is a story to be told here, but one cannot imply causation . . . although my hypothesis is that the United States' has largely led an ineffective response to the pandemic, causing a larger proportion of deaths, there is not enough evidence to glean causation."
      ]
    },
    {
      "cell_type": "markdown",
      "metadata": {
        "id": "hmLMBeA4WksK",
        "colab_type": "text"
      },
      "source": [
        "### Now, do the same for New Zealand vs. South Korea"
      ]
    },
    {
      "cell_type": "code",
      "metadata": {
        "id": "wkolvwBfTh1_",
        "colab_type": "code",
        "outputId": "fa3bdc96-2d68-4d9e-9b32-24f73cfe07cb",
        "colab": {
          "base_uri": "https://localhost:8080/",
          "height": 34
        }
      },
      "source": [
        "num_obs = np.array([lim_aggregate_df.loc['New_Zealand'].popData2018,\n",
        "                    lim_aggregate_df.loc['South_Korea'].popData2018])\n",
        "\n",
        "num_deaths = np.array([lim_aggregate_df.loc['New_Zealand'].deaths,\n",
        "                       lim_aggregate_df.loc['South_Korea'].deaths])\n",
        "\n",
        "stat, pval = proportions_ztest(num_deaths, num_obs)\n",
        "\n",
        "print(f'Z-Statistic: {stat:.5f} ', f'\\tp-value: {pval:.5f}')"
      ],
      "execution_count": 0,
      "outputs": [
        {
          "output_type": "stream",
          "text": [
            "Z-Statistic: -0.72293  \tp-value: 0.46973\n"
          ],
          "name": "stdout"
        }
      ]
    },
    {
      "cell_type": "markdown",
      "metadata": {
        "id": "7U-QdrfbXmN3",
        "colab_type": "text"
      },
      "source": [
        "#### Hypotheses and Conclusion of the Hypothesis Test\n",
        "\n",
        "$$ H_0: p_{New \\ Zealand} = p_{South \\ Korea} $$\n",
        "$$ H_a: p_{New \\ Zealand} < p_{South \\ Korea} $$\n",
        "\n",
        "With a p-value of 0.46973, there is not enough evidence to reject the null hypothesis. \n",
        "<br><br><br><br><br>"
      ]
    },
    {
      "cell_type": "code",
      "metadata": {
        "id": "D5r57MxZXO5x",
        "colab_type": "code",
        "outputId": "ac46387f-f3b5-4c6c-f300-bcaffcf74f6d",
        "colab": {
          "base_uri": "https://localhost:8080/",
          "height": 68
        }
      },
      "source": [
        "from itertools import combinations\n",
        "\n",
        "country_lst = list(lim_aggregate_df.index)\n",
        "\n",
        "list(combinations(country_lst, 2))[0:3]"
      ],
      "execution_count": 0,
      "outputs": [
        {
          "output_type": "execute_result",
          "data": {
            "text/plain": [
              "[('United_States_of_America', 'South_Korea'),\n",
              " ('United_States_of_America', 'China'),\n",
              " ('United_States_of_America', 'Germany')]"
            ]
          },
          "metadata": {
            "tags": []
          },
          "execution_count": 68
        }
      ]
    },
    {
      "cell_type": "code",
      "metadata": {
        "id": "n1oMCNOlZuID",
        "colab_type": "code",
        "outputId": "66a36157-3a82-47c0-8bc9-4183cf7507c0",
        "colab": {
          "base_uri": "https://localhost:8080/",
          "height": 1000
        }
      },
      "source": [
        "def pop_hypothesis_test(df):\n",
        "    all_combs = list(combinations(df.index, 2))\n",
        "\n",
        "    for comb in all_combs:\n",
        "        num_obs = np.array([df.loc[comb[0]].popData2018, \n",
        "                           df.loc[comb[1]].popData2018])\n",
        "\n",
        "        num_deaths = np.array([df.loc[comb[0]].deaths, \n",
        "                              df.loc[comb[1]].deaths])\n",
        "\n",
        "        print(f'Countries: {comb[0]} vs. {comb[1]}:'.replace(\"_\", \" \"))\n",
        "        print(f'\\tProportions: {df.loc[comb[0]].death_by_pop:.8f}, ' +\n",
        "              f'{df.loc[comb[1]].death_by_pop:.8f}')\n",
        "        \n",
        "        stat, pval = proportions_ztest(num_deaths, num_obs)\n",
        "\n",
        "        print(f'\\tZ-statistic: {stat:.4f} ', f'\\n\\tp-value: {pval:.6f}')\n",
        "\n",
        "        if pval < 0.05 and stat > 0:\n",
        "            print('\\tHypothesis: Alternative - p1 is greater than p2\\n')\n",
        "        elif pval < 0.05 and stat < 0:\n",
        "            print('\\tHypothesis: Alternative - p1 is lesser than p2\\n')\n",
        "        else:\n",
        "            print('\\tHypothesis: Null - No statistically significant ' +\n",
        "                  'evidence of a difference between p1 and p2\\n')\n",
        "\n",
        "\n",
        "pop_hypothesis_test(lim_aggregate_df)\n",
        "\n"
      ],
      "execution_count": 0,
      "outputs": [
        {
          "output_type": "stream",
          "text": [
            "Countries: United States of America vs. South Korea:\n",
            "\tProportions: 0.00020291, 0.00000484\n",
            "\tZ-statistic: 99.7371  \n",
            "\tp-value: 0.000000\n",
            "\tHypothesis: Alternative - p1 is greater than p2\n",
            "\n",
            "Countries: United States of America vs. China:\n",
            "\tProportions: 0.00020291, 0.00000333\n",
            "\tZ-statistic: 505.5285  \n",
            "\tp-value: 0.000000\n",
            "\tHypothesis: Alternative - p1 is greater than p2\n",
            "\n",
            "Countries: United States of America vs. Germany:\n",
            "\tProportions: 0.00020291, 0.00008018\n",
            "\tZ-statistic: 74.8106  \n",
            "\tp-value: 0.000000\n",
            "\tHypothesis: Alternative - p1 is greater than p2\n",
            "\n",
            "Countries: United States of America vs. Taiwan:\n",
            "\tProportions: 0.00020291, 0.00000025\n",
            "\tZ-statistic: 69.3811  \n",
            "\tp-value: 0.000000\n",
            "\tHypothesis: Alternative - p1 is greater than p2\n",
            "\n",
            "Countries: United States of America vs. Sweden:\n",
            "\tProportions: 0.00020291, 0.00026210\n",
            "\tZ-statistic: -13.0026  \n",
            "\tp-value: 0.000000\n",
            "\tHypothesis: Alternative - p1 is lesser than p2\n",
            "\n",
            "Countries: United States of America vs. Italy:\n",
            "\tProportions: 0.00020291, 0.00047509\n",
            "\tZ-statistic: -124.1199  \n",
            "\tp-value: 0.000000\n",
            "\tHypothesis: Alternative - p1 is lesser than p2\n",
            "\n",
            "Countries: United States of America vs. United Kingdom:\n",
            "\tProportions: 0.00020291, 0.00042309\n",
            "\tZ-statistic: -105.6442  \n",
            "\tp-value: 0.000000\n",
            "\tHypothesis: Alternative - p1 is lesser than p2\n",
            "\n",
            "Countries: United States of America vs. France:\n",
            "\tProportions: 0.00020291, 0.00036962\n",
            "\tZ-statistic: -81.7594  \n",
            "\tp-value: 0.000000\n",
            "\tHypothesis: Alternative - p1 is lesser than p2\n",
            "\n",
            "Countries: United States of America vs. Singapore:\n",
            "\tProportions: 0.00020291, 0.00000301\n",
            "\tZ-statistic: 33.3215  \n",
            "\tp-value: 0.000000\n",
            "\tHypothesis: Alternative - p1 is greater than p2\n",
            "\n",
            "Countries: United States of America vs. New Zealand:\n",
            "\tProportions: 0.00020291, 0.00000409\n",
            "\tZ-statistic: 30.8483  \n",
            "\tp-value: 0.000000\n",
            "\tHypothesis: Alternative - p1 is greater than p2\n",
            "\n",
            "Countries: South Korea vs. China:\n",
            "\tProportions: 0.00000484, 0.00000333\n",
            "\tZ-statistic: 5.8010  \n",
            "\tp-value: 0.000000\n",
            "\tHypothesis: Alternative - p1 is greater than p2\n",
            "\n",
            "Countries: South Korea vs. Germany:\n",
            "\tProportions: 0.00000484, 0.00008018\n",
            "\tZ-statistic: -59.3535  \n",
            "\tp-value: 0.000000\n",
            "\tHypothesis: Alternative - p1 is lesser than p2\n",
            "\n",
            "Countries: South Korea vs. Taiwan:\n",
            "\tProportions: 0.00000484, 0.00000025\n",
            "\tZ-statistic: 10.0511  \n",
            "\tp-value: 0.000000\n",
            "\tHypothesis: Alternative - p1 is greater than p2\n",
            "\n",
            "Countries: South Korea vs. Sweden:\n",
            "\tProportions: 0.00000484, 0.00026210\n",
            "\tZ-statistic: -109.1882  \n",
            "\tp-value: 0.000000\n",
            "\tHypothesis: Alternative - p1 is lesser than p2\n",
            "\n",
            "Countries: South Korea vs. Italy:\n",
            "\tProportions: 0.00000484, 0.00047509\n",
            "\tZ-statistic: -154.3774  \n",
            "\tp-value: 0.000000\n",
            "\tHypothesis: Alternative - p1 is lesser than p2\n",
            "\n",
            "Countries: South Korea vs. United Kingdom:\n",
            "\tProportions: 0.00000484, 0.00042309\n",
            "\tZ-statistic: -145.4867  \n",
            "\tp-value: 0.000000\n",
            "\tHypothesis: Alternative - p1 is lesser than p2\n",
            "\n",
            "Countries: South Korea vs. France:\n",
            "\tProportions: 0.00000484, 0.00036962\n",
            "\tZ-statistic: -135.6720  \n",
            "\tp-value: 0.000000\n",
            "\tHypothesis: Alternative - p1 is lesser than p2\n",
            "\n",
            "Countries: South Korea vs. Singapore:\n",
            "\tProportions: 0.00000484, 0.00000301\n",
            "\tZ-statistic: 1.9076  \n",
            "\tp-value: 0.056442\n",
            "\tHypothesis: Null - No statistically significant evidence of a difference between p1 and p2\n",
            "\n",
            "Countries: South Korea vs. New Zealand:\n",
            "\tProportions: 0.00000484, 0.00000409\n",
            "\tZ-statistic: 0.7229  \n",
            "\tp-value: 0.469725\n",
            "\tHypothesis: Null - No statistically significant evidence of a difference between p1 and p2\n",
            "\n",
            "Countries: China vs. Germany:\n",
            "\tProportions: 0.00000333, 0.00008018\n",
            "\tZ-statistic: -245.8395  \n",
            "\tp-value: 0.000000\n",
            "\tHypothesis: Alternative - p1 is lesser than p2\n",
            "\n",
            "Countries: China vs. Taiwan:\n",
            "\tProportions: 0.00000333, 0.00000025\n",
            "\tZ-statistic: 8.2184  \n",
            "\tp-value: 0.000000\n",
            "\tHypothesis: Alternative - p1 is greater than p2\n",
            "\n",
            "Countries: China vs. Sweden:\n",
            "\tProportions: 0.00000333, 0.00026210\n",
            "\tZ-statistic: -360.5368  \n",
            "\tp-value: 0.000000\n",
            "\tHypothesis: Alternative - p1 is lesser than p2\n",
            "\n",
            "Countries: China vs. Italy:\n",
            "\tProportions: 0.00000333, 0.00047509\n",
            "\tZ-statistic: -749.4766  \n",
            "\tp-value: 0.000000\n",
            "\tHypothesis: Alternative - p1 is lesser than p2\n",
            "\n",
            "Countries: China vs. United Kingdom:\n",
            "\tProportions: 0.00000333, 0.00042309\n",
            "\tZ-statistic: -705.6552  \n",
            "\tp-value: 0.000000\n",
            "\tHypothesis: Alternative - p1 is lesser than p2\n",
            "\n",
            "Countries: China vs. France:\n",
            "\tProportions: 0.00000333, 0.00036962\n",
            "\tZ-statistic: -652.5461  \n",
            "\tp-value: 0.000000\n",
            "\tHypothesis: Alternative - p1 is lesser than p2\n",
            "\n",
            "Countries: China vs. Singapore:\n",
            "\tProportions: 0.00000333, 0.00000301\n",
            "\tZ-statistic: 0.4086  \n",
            "\tp-value: 0.682842\n",
            "\tHypothesis: Null - No statistically significant evidence of a difference between p1 and p2\n",
            "\n",
            "Countries: China vs. New Zealand:\n",
            "\tProportions: 0.00000333, 0.00000409\n",
            "\tZ-statistic: -0.9239  \n",
            "\tp-value: 0.355557\n",
            "\tHypothesis: Null - No statistically significant evidence of a difference between p1 and p2\n",
            "\n",
            "Countries: Germany vs. Taiwan:\n",
            "\tProportions: 0.00008018, 0.00000025\n",
            "\tZ-statistic: 43.5098  \n",
            "\tp-value: 0.000000\n",
            "\tHypothesis: Alternative - p1 is greater than p2\n",
            "\n",
            "Countries: Germany vs. Sweden:\n",
            "\tProportions: 0.00008018, 0.00026210\n",
            "\tZ-statistic: -54.7690  \n",
            "\tp-value: 0.000000\n",
            "\tHypothesis: Alternative - p1 is lesser than p2\n",
            "\n",
            "Countries: Germany vs. Italy:\n",
            "\tProportions: 0.00008018, 0.00047509\n",
            "\tZ-statistic: -148.6893  \n",
            "\tp-value: 0.000000\n",
            "\tHypothesis: Alternative - p1 is lesser than p2\n",
            "\n",
            "Countries: Germany vs. United Kingdom:\n",
            "\tProportions: 0.00008018, 0.00042309\n",
            "\tZ-statistic: -136.5516  \n",
            "\tp-value: 0.000000\n",
            "\tHypothesis: Alternative - p1 is lesser than p2\n",
            "\n",
            "Countries: Germany vs. France:\n",
            "\tProportions: 0.00008018, 0.00036962\n",
            "\tZ-statistic: -121.7392  \n",
            "\tp-value: 0.000000\n",
            "\tHypothesis: Alternative - p1 is lesser than p2\n",
            "\n",
            "Countries: Germany vs. Singapore:\n",
            "\tProportions: 0.00008018, 0.00000301\n",
            "\tZ-statistic: 20.4377  \n",
            "\tp-value: 0.000000\n",
            "\tHypothesis: Alternative - p1 is greater than p2\n",
            "\n",
            "Countries: Germany vs. New Zealand:\n",
            "\tProportions: 0.00008018, 0.00000409\n",
            "\tZ-statistic: 18.7537  \n",
            "\tp-value: 0.000000\n",
            "\tHypothesis: Alternative - p1 is greater than p2\n",
            "\n",
            "Countries: Taiwan vs. Sweden:\n",
            "\tProportions: 0.00000025, 0.00026210\n",
            "\tZ-statistic: -78.7869  \n",
            "\tp-value: 0.000000\n",
            "\tHypothesis: Alternative - p1 is lesser than p2\n",
            "\n",
            "Countries: Taiwan vs. Italy:\n",
            "\tProportions: 0.00000025, 0.00047509\n",
            "\tZ-statistic: -106.2414  \n",
            "\tp-value: 0.000000\n",
            "\tHypothesis: Alternative - p1 is lesser than p2\n",
            "\n",
            "Countries: Taiwan vs. United Kingdom:\n",
            "\tProportions: 0.00000025, 0.00042309\n",
            "\tZ-statistic: -100.2513  \n",
            "\tp-value: 0.000000\n",
            "\tHypothesis: Alternative - p1 is lesser than p2\n",
            "\n",
            "Countries: Taiwan vs. France:\n",
            "\tProportions: 0.00000025, 0.00036962\n",
            "\tZ-statistic: -93.6913  \n",
            "\tp-value: 0.000000\n",
            "\tHypothesis: Alternative - p1 is lesser than p2\n",
            "\n",
            "Countries: Taiwan vs. Singapore:\n",
            "\tProportions: 0.00000025, 0.00000301\n",
            "\tZ-statistic: -6.6704  \n",
            "\tp-value: 0.000000\n",
            "\tHypothesis: Alternative - p1 is lesser than p2\n",
            "\n",
            "Countries: Taiwan vs. New Zealand:\n",
            "\tProportions: 0.00000025, 0.00000409\n",
            "\tZ-statistic: -8.1203  \n",
            "\tp-value: 0.000000\n",
            "\tHypothesis: Alternative - p1 is lesser than p2\n",
            "\n",
            "Countries: Sweden vs. Italy:\n",
            "\tProportions: 0.00026210, 0.00047509\n",
            "\tZ-statistic: -29.8333  \n",
            "\tp-value: 0.000000\n",
            "\tHypothesis: Alternative - p1 is lesser than p2\n",
            "\n",
            "Countries: Sweden vs. United Kingdom:\n",
            "\tProportions: 0.00026210, 0.00042309\n",
            "\tZ-statistic: -23.8746  \n",
            "\tp-value: 0.000000\n",
            "\tHypothesis: Alternative - p1 is lesser than p2\n",
            "\n",
            "Countries: Sweden vs. France:\n",
            "\tProportions: 0.00026210, 0.00036962\n",
            "\tZ-statistic: -16.9595  \n",
            "\tp-value: 0.000000\n",
            "\tHypothesis: Alternative - p1 is lesser than p2\n",
            "\n",
            "Countries: Sweden vs. Singapore:\n",
            "\tProportions: 0.00026210, 0.00000301\n",
            "\tZ-statistic: 37.8839  \n",
            "\tp-value: 0.000000\n",
            "\tHypothesis: Alternative - p1 is greater than p2\n",
            "\n",
            "Countries: Sweden vs. New Zealand:\n",
            "\tProportions: 0.00026210, 0.00000409\n",
            "\tZ-statistic: 35.0968  \n",
            "\tp-value: 0.000000\n",
            "\tHypothesis: Alternative - p1 is greater than p2\n",
            "\n",
            "Countries: Italy vs. United Kingdom:\n",
            "\tProportions: 0.00047509, 0.00042309\n",
            "\tZ-statistic: 13.8265  \n",
            "\tp-value: 0.000000\n",
            "\tHypothesis: Alternative - p1 is greater than p2\n",
            "\n",
            "Countries: Italy vs. France:\n",
            "\tProportions: 0.00047509, 0.00036962\n",
            "\tZ-statistic: 29.0242  \n",
            "\tp-value: 0.000000\n",
            "\tHypothesis: Alternative - p1 is greater than p2\n",
            "\n",
            "Countries: Italy vs. Singapore:\n",
            "\tProportions: 0.00047509, 0.00000301\n",
            "\tZ-statistic: 51.4251  \n",
            "\tp-value: 0.000000\n",
            "\tHypothesis: Alternative - p1 is greater than p2\n",
            "\n",
            "Countries: Italy vs. New Zealand:\n",
            "\tProportions: 0.00047509, 0.00000409\n",
            "\tZ-statistic: 47.7558  \n",
            "\tp-value: 0.000000\n",
            "\tHypothesis: Alternative - p1 is greater than p2\n",
            "\n",
            "Countries: United Kingdom vs. France:\n",
            "\tProportions: 0.00042309, 0.00036962\n",
            "\tZ-statistic: 15.5194  \n",
            "\tp-value: 0.000000\n",
            "\tHypothesis: Alternative - p1 is greater than p2\n",
            "\n",
            "Countries: United Kingdom vs. Singapore:\n",
            "\tProportions: 0.00042309, 0.00000301\n",
            "\tZ-statistic: 48.4902  \n",
            "\tp-value: 0.000000\n",
            "\tHypothesis: Alternative - p1 is greater than p2\n",
            "\n",
            "Countries: United Kingdom vs. New Zealand:\n",
            "\tProportions: 0.00042309, 0.00000409\n",
            "\tZ-statistic: 45.0175  \n",
            "\tp-value: 0.000000\n",
            "\tHypothesis: Alternative - p1 is greater than p2\n",
            "\n",
            "Countries: France vs. Singapore:\n",
            "\tProportions: 0.00036962, 0.00000301\n",
            "\tZ-statistic: 45.2727  \n",
            "\tp-value: 0.000000\n",
            "\tHypothesis: Alternative - p1 is greater than p2\n",
            "\n",
            "Countries: France vs. New Zealand:\n",
            "\tProportions: 0.00036962, 0.00000409\n",
            "\tZ-statistic: 42.0142  \n",
            "\tp-value: 0.000000\n",
            "\tHypothesis: Alternative - p1 is greater than p2\n",
            "\n",
            "Countries: Singapore vs. New Zealand:\n",
            "\tProportions: 0.00000301, 0.00000409\n",
            "\tZ-statistic: -0.9309  \n",
            "\tp-value: 0.351902\n",
            "\tHypothesis: Null - No statistically significant evidence of a difference between p1 and p2\n",
            "\n"
          ],
          "name": "stdout"
        }
      ]
    },
    {
      "cell_type": "code",
      "metadata": {
        "id": "NGkN5zQsbk1Y",
        "colab_type": "code",
        "colab": {}
      },
      "source": [
        "\n"
      ],
      "execution_count": 0,
      "outputs": []
    }
  ]
}